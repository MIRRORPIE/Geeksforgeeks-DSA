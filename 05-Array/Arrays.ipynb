{
 "cells": [
  {
   "cell_type": "markdown",
   "metadata": {},
   "source": [
    "## Arrays:------------------->"
   ]
  },
  {
   "cell_type": "code",
   "execution_count": null,
   "metadata": {},
   "outputs": [],
   "source": []
  },
  {
   "cell_type": "code",
   "execution_count": null,
   "metadata": {},
   "outputs": [],
   "source": []
  },
  {
   "cell_type": "code",
   "execution_count": null,
   "metadata": {},
   "outputs": [],
   "source": []
  },
  {
   "cell_type": "code",
   "execution_count": null,
   "metadata": {},
   "outputs": [],
   "source": []
  },
  {
   "cell_type": "code",
   "execution_count": null,
   "metadata": {},
   "outputs": [],
   "source": []
  },
  {
   "cell_type": "code",
   "execution_count": null,
   "metadata": {},
   "outputs": [],
   "source": []
  },
  {
   "cell_type": "code",
   "execution_count": null,
   "metadata": {},
   "outputs": [],
   "source": []
  },
  {
   "cell_type": "code",
   "execution_count": null,
   "metadata": {},
   "outputs": [],
   "source": []
  },
  {
   "cell_type": "code",
   "execution_count": null,
   "metadata": {},
   "outputs": [],
   "source": []
  },
  {
   "cell_type": "code",
   "execution_count": null,
   "metadata": {},
   "outputs": [],
   "source": []
  },
  {
   "cell_type": "code",
   "execution_count": null,
   "metadata": {},
   "outputs": [],
   "source": []
  },
  {
   "cell_type": "code",
   "execution_count": null,
   "metadata": {},
   "outputs": [],
   "source": []
  },
  {
   "cell_type": "code",
   "execution_count": null,
   "metadata": {},
   "outputs": [],
   "source": []
  },
  {
   "cell_type": "code",
   "execution_count": null,
   "metadata": {},
   "outputs": [],
   "source": []
  },
  {
   "cell_type": "code",
   "execution_count": null,
   "metadata": {},
   "outputs": [],
   "source": []
  },
  {
   "cell_type": "code",
   "execution_count": null,
   "metadata": {},
   "outputs": [],
   "source": []
  },
  {
   "cell_type": "code",
   "execution_count": null,
   "metadata": {},
   "outputs": [],
   "source": []
  },
  {
   "cell_type": "code",
   "execution_count": null,
   "metadata": {},
   "outputs": [],
   "source": []
  },
  {
   "cell_type": "code",
   "execution_count": null,
   "metadata": {},
   "outputs": [],
   "source": []
  },
  {
   "cell_type": "code",
   "execution_count": null,
   "metadata": {},
   "outputs": [],
   "source": []
  },
  {
   "cell_type": "code",
   "execution_count": null,
   "metadata": {},
   "outputs": [],
   "source": []
  },
  {
   "cell_type": "code",
   "execution_count": null,
   "metadata": {},
   "outputs": [],
   "source": []
  },
  {
   "cell_type": "code",
   "execution_count": null,
   "metadata": {},
   "outputs": [],
   "source": []
  },
  {
   "cell_type": "code",
   "execution_count": null,
   "metadata": {},
   "outputs": [],
   "source": []
  },
  {
   "cell_type": "code",
   "execution_count": null,
   "metadata": {},
   "outputs": [],
   "source": []
  },
  {
   "cell_type": "code",
   "execution_count": null,
   "metadata": {},
   "outputs": [],
   "source": []
  },
  {
   "cell_type": "code",
   "execution_count": null,
   "metadata": {},
   "outputs": [],
   "source": []
  },
  {
   "cell_type": "code",
   "execution_count": null,
   "metadata": {},
   "outputs": [],
   "source": []
  },
  {
   "cell_type": "code",
   "execution_count": null,
   "metadata": {},
   "outputs": [],
   "source": []
  },
  {
   "cell_type": "code",
   "execution_count": null,
   "metadata": {},
   "outputs": [],
   "source": []
  },
  {
   "cell_type": "code",
   "execution_count": null,
   "metadata": {},
   "outputs": [],
   "source": []
  },
  {
   "cell_type": "code",
   "execution_count": null,
   "metadata": {},
   "outputs": [],
   "source": []
  },
  {
   "cell_type": "code",
   "execution_count": null,
   "metadata": {},
   "outputs": [],
   "source": []
  },
  {
   "cell_type": "code",
   "execution_count": null,
   "metadata": {},
   "outputs": [],
   "source": []
  },
  {
   "cell_type": "code",
   "execution_count": null,
   "metadata": {},
   "outputs": [],
   "source": []
  },
  {
   "cell_type": "code",
   "execution_count": null,
   "metadata": {},
   "outputs": [],
   "source": []
  },
  {
   "cell_type": "code",
   "execution_count": null,
   "metadata": {},
   "outputs": [],
   "source": []
  },
  {
   "cell_type": "code",
   "execution_count": null,
   "metadata": {},
   "outputs": [],
   "source": []
  },
  {
   "cell_type": "code",
   "execution_count": null,
   "metadata": {},
   "outputs": [],
   "source": []
  },
  {
   "cell_type": "code",
   "execution_count": null,
   "metadata": {},
   "outputs": [],
   "source": []
  },
  {
   "cell_type": "code",
   "execution_count": null,
   "metadata": {},
   "outputs": [],
   "source": []
  },
  {
   "cell_type": "code",
   "execution_count": null,
   "metadata": {},
   "outputs": [],
   "source": []
  },
  {
   "cell_type": "code",
   "execution_count": null,
   "metadata": {},
   "outputs": [],
   "source": []
  },
  {
   "cell_type": "code",
   "execution_count": null,
   "metadata": {},
   "outputs": [],
   "source": []
  },
  {
   "cell_type": "code",
   "execution_count": null,
   "metadata": {},
   "outputs": [],
   "source": []
  },
  {
   "cell_type": "code",
   "execution_count": null,
   "metadata": {},
   "outputs": [],
   "source": []
  },
  {
   "cell_type": "code",
   "execution_count": null,
   "metadata": {},
   "outputs": [],
   "source": []
  },
  {
   "cell_type": "code",
   "execution_count": null,
   "metadata": {},
   "outputs": [],
   "source": []
  },
  {
   "cell_type": "code",
   "execution_count": null,
   "metadata": {},
   "outputs": [],
   "source": []
  },
  {
   "cell_type": "code",
   "execution_count": null,
   "metadata": {},
   "outputs": [],
   "source": []
  },
  {
   "cell_type": "code",
   "execution_count": null,
   "metadata": {},
   "outputs": [],
   "source": []
  },
  {
   "cell_type": "code",
   "execution_count": null,
   "metadata": {},
   "outputs": [],
   "source": []
  },
  {
   "cell_type": "code",
   "execution_count": null,
   "metadata": {},
   "outputs": [],
   "source": []
  },
  {
   "cell_type": "code",
   "execution_count": null,
   "metadata": {},
   "outputs": [],
   "source": []
  },
  {
   "cell_type": "code",
   "execution_count": null,
   "metadata": {},
   "outputs": [],
   "source": []
  },
  {
   "cell_type": "code",
   "execution_count": null,
   "metadata": {},
   "outputs": [],
   "source": []
  },
  {
   "cell_type": "code",
   "execution_count": null,
   "metadata": {},
   "outputs": [],
   "source": []
  },
  {
   "cell_type": "code",
   "execution_count": null,
   "metadata": {},
   "outputs": [],
   "source": []
  },
  {
   "cell_type": "code",
   "execution_count": null,
   "metadata": {},
   "outputs": [],
   "source": []
  },
  {
   "cell_type": "code",
   "execution_count": null,
   "metadata": {},
   "outputs": [],
   "source": []
  },
  {
   "cell_type": "code",
   "execution_count": null,
   "metadata": {},
   "outputs": [],
   "source": []
  },
  {
   "cell_type": "code",
   "execution_count": null,
   "metadata": {},
   "outputs": [],
   "source": []
  },
  {
   "cell_type": "code",
   "execution_count": null,
   "metadata": {},
   "outputs": [],
   "source": []
  },
  {
   "cell_type": "code",
   "execution_count": null,
   "metadata": {},
   "outputs": [],
   "source": []
  },
  {
   "cell_type": "code",
   "execution_count": null,
   "metadata": {},
   "outputs": [],
   "source": []
  },
  {
   "cell_type": "code",
   "execution_count": null,
   "metadata": {},
   "outputs": [],
   "source": []
  },
  {
   "cell_type": "code",
   "execution_count": null,
   "metadata": {},
   "outputs": [],
   "source": []
  },
  {
   "cell_type": "code",
   "execution_count": null,
   "metadata": {},
   "outputs": [],
   "source": []
  },
  {
   "cell_type": "code",
   "execution_count": null,
   "metadata": {},
   "outputs": [],
   "source": []
  },
  {
   "cell_type": "code",
   "execution_count": null,
   "metadata": {},
   "outputs": [],
   "source": []
  },
  {
   "cell_type": "code",
   "execution_count": null,
   "metadata": {},
   "outputs": [],
   "source": []
  },
  {
   "cell_type": "code",
   "execution_count": null,
   "metadata": {},
   "outputs": [],
   "source": []
  },
  {
   "cell_type": "code",
   "execution_count": null,
   "metadata": {},
   "outputs": [],
   "source": []
  },
  {
   "cell_type": "code",
   "execution_count": null,
   "metadata": {},
   "outputs": [],
   "source": []
  },
  {
   "cell_type": "code",
   "execution_count": null,
   "metadata": {},
   "outputs": [],
   "source": []
  },
  {
   "cell_type": "code",
   "execution_count": null,
   "metadata": {},
   "outputs": [],
   "source": []
  },
  {
   "cell_type": "code",
   "execution_count": null,
   "metadata": {},
   "outputs": [],
   "source": []
  },
  {
   "cell_type": "code",
   "execution_count": null,
   "metadata": {},
   "outputs": [],
   "source": []
  },
  {
   "cell_type": "code",
   "execution_count": null,
   "metadata": {},
   "outputs": [],
   "source": []
  },
  {
   "cell_type": "code",
   "execution_count": null,
   "metadata": {},
   "outputs": [],
   "source": []
  },
  {
   "cell_type": "code",
   "execution_count": null,
   "metadata": {},
   "outputs": [],
   "source": []
  },
  {
   "cell_type": "code",
   "execution_count": null,
   "metadata": {},
   "outputs": [],
   "source": []
  },
  {
   "cell_type": "code",
   "execution_count": null,
   "metadata": {},
   "outputs": [],
   "source": []
  },
  {
   "cell_type": "code",
   "execution_count": null,
   "metadata": {},
   "outputs": [],
   "source": []
  },
  {
   "cell_type": "code",
   "execution_count": null,
   "metadata": {},
   "outputs": [],
   "source": []
  },
  {
   "cell_type": "code",
   "execution_count": null,
   "metadata": {},
   "outputs": [],
   "source": []
  },
  {
   "cell_type": "code",
   "execution_count": null,
   "metadata": {},
   "outputs": [],
   "source": []
  },
  {
   "cell_type": "code",
   "execution_count": null,
   "metadata": {},
   "outputs": [],
   "source": []
  },
  {
   "cell_type": "code",
   "execution_count": null,
   "metadata": {},
   "outputs": [],
   "source": []
  },
  {
   "cell_type": "code",
   "execution_count": null,
   "metadata": {},
   "outputs": [],
   "source": []
  },
  {
   "cell_type": "code",
   "execution_count": null,
   "metadata": {},
   "outputs": [],
   "source": []
  },
  {
   "cell_type": "code",
   "execution_count": null,
   "metadata": {},
   "outputs": [],
   "source": []
  },
  {
   "cell_type": "code",
   "execution_count": null,
   "metadata": {},
   "outputs": [],
   "source": []
  },
  {
   "cell_type": "code",
   "execution_count": null,
   "metadata": {},
   "outputs": [],
   "source": []
  },
  {
   "cell_type": "markdown",
   "metadata": {},
   "source": [
    "### 14-Maximum consecutive 1s in a binary array Efficient: "
   ]
  },
  {
   "cell_type": "code",
   "execution_count": 6,
   "metadata": {},
   "outputs": [
    {
     "name": "stdout",
     "output_type": "stream",
     "text": [
      "Enter n: 10\n",
      "0 0 0 1 1 1 0 0 1 0\n",
      "Maximum consecutive Ones is:  3\n"
     ]
    }
   ],
   "source": [
    "def maxConsecutiveOnes(arr, n):\n",
    "    maximum = 0\n",
    "    count = 0\n",
    "    for i in range(n):\n",
    "        if(arr[i] == 1):\n",
    "            count += 1\n",
    "        else:\n",
    "            if(count > maximum):\n",
    "                maximum = count\n",
    "                count = 0\n",
    "    return maximum\n",
    "\n",
    "\n",
    "n = int(input(\"Enter n: \"))\n",
    "arr = list(map(int, input().split()))\n",
    "print(\"Maximum consecutive Ones is: \", maxConsecutiveOnes(arr, n))"
   ]
  },
  {
   "cell_type": "code",
   "execution_count": null,
   "metadata": {},
   "outputs": [],
   "source": []
  },
  {
   "cell_type": "markdown",
   "metadata": {},
   "source": [
    "### 15-Maximum sum subarrays:"
   ]
  },
  {
   "cell_type": "markdown",
   "metadata": {},
   "source": [
    "#### Naive approach:"
   ]
  },
  {
   "cell_type": "code",
   "execution_count": 3,
   "metadata": {},
   "outputs": [
    {
     "name": "stdout",
     "output_type": "stream",
     "text": [
      "Enter n: 10\n",
      "3 6 -7 7 -1 2 3 5 -8 2\n",
      "Maximum sum subarray is:  18\n"
     ]
    }
   ],
   "source": [
    "def maxSumSubarray(arr, n):\n",
    "    maximum = arr[0]\n",
    "    for i in range(n):\n",
    "        current = 0\n",
    "        for j in range(i, n):\n",
    "            current += arr[j]\n",
    "            maximum = max(maximum, current)\n",
    "    return maximum\n",
    "\n",
    "\n",
    "n = int(input(\"Enter n: \"))\n",
    "arr = list(map(int, input().split()))\n",
    "print(\"Maximum sum subarray is: \", maxSumSubarray(arr, n))"
   ]
  },
  {
   "cell_type": "code",
   "execution_count": null,
   "metadata": {},
   "outputs": [],
   "source": []
  },
  {
   "cell_type": "markdown",
   "metadata": {},
   "source": [
    "#### Efficient approach:"
   ]
  },
  {
   "cell_type": "code",
   "execution_count": 8,
   "metadata": {},
   "outputs": [
    {
     "name": "stdout",
     "output_type": "stream",
     "text": [
      "Enter n: 10\n",
      "3 6 -7 7 -1 2 3 5 -8 2\n",
      "Maximum sum subarray is:  18\n"
     ]
    }
   ],
   "source": [
    "def maxSumSubarray(arr, n):\n",
    "    maximum = arr[0]\n",
    "    current_sum = arr[0]\n",
    "    for i in range(1, n):\n",
    "        current_sum = max(current_sum + arr[i], arr[i])\n",
    "        maximum = max(current_sum, maximum)\n",
    "    return maximum\n",
    "            \n",
    "n = int(input(\"Enter n: \"))\n",
    "arr = list(map(int, input().split()))\n",
    "print(\"Maximum sum subarray is: \", maxSumSubarray(arr, n))"
   ]
  },
  {
   "cell_type": "code",
   "execution_count": null,
   "metadata": {},
   "outputs": [],
   "source": []
  },
  {
   "cell_type": "markdown",
   "metadata": {},
   "source": [
    "### 16-Length of the longest subarray that has alternating even odd elements:"
   ]
  },
  {
   "cell_type": "markdown",
   "metadata": {},
   "source": [
    "#### Naive approach:"
   ]
  },
  {
   "cell_type": "code",
   "execution_count": 10,
   "metadata": {
    "scrolled": true
   },
   "outputs": [
    {
     "name": "stdout",
     "output_type": "stream",
     "text": [
      "Enter n: 6\n",
      "5 10 20 6 3 8\n",
      "Length of the longest subarray that has alternating even odd elements is:  3\n"
     ]
    }
   ],
   "source": [
    "def maxEvenOddSubarray(arr, n):\n",
    "    result = 1\n",
    "    for i in range(n):\n",
    "        current = 1\n",
    "        for j in range(i+1, n):\n",
    "            if((arr[j-1] % 2 == 0 and arr[j] %2 != 0) or (arr[j-1] % 2 != 0 and arr[j] %2 == 0)):\n",
    "                current += 1\n",
    "            else:\n",
    "                break\n",
    "        result = max(result, current)\n",
    "    return result\n",
    "                \n",
    "\n",
    "\n",
    "n = int(input(\"Enter n: \"))\n",
    "arr = list(map(int, input().split()))\n",
    "print(\"Length of the longest subarray that has alternating even odd elements is: \", maxEvenOddSubarray(arr, n))"
   ]
  },
  {
   "cell_type": "markdown",
   "metadata": {},
   "source": [
    "#### Efficient approach:"
   ]
  },
  {
   "cell_type": "code",
   "execution_count": 2,
   "metadata": {},
   "outputs": [
    {
     "name": "stdout",
     "output_type": "stream",
     "text": [
      "Enter n: 6\n",
      "5 10 20 6 3 8\n",
      "Length of the longest subarray that has alternating even odd elements is:  3\n"
     ]
    }
   ],
   "source": [
    "def maxEvenOddSubarray(arr, n):\n",
    "    result = 1\n",
    "    current = 1\n",
    "    for i in range(1, n):\n",
    "        if((arr[i-1] % 2 == 0 and arr[i] %2 != 0) or (arr[i-1] % 2 != 0 and arr[i] %2 == 0)):\n",
    "            current += 1\n",
    "            result = max(result, current)\n",
    "        else:\n",
    "            current = 1\n",
    "    return result\n",
    "    \n",
    "n = int(input(\"Enter n: \"))\n",
    "arr = list(map(int, input().split()))\n",
    "print(\"Length of the longest subarray that has alternating even odd elements is: \", maxEvenOddSubarray(arr, n))"
   ]
  },
  {
   "cell_type": "code",
   "execution_count": null,
   "metadata": {},
   "outputs": [],
   "source": []
  },
  {
   "cell_type": "markdown",
   "metadata": {},
   "source": [
    "### 17-Maximum circular sum subarray of a given array:"
   ]
  },
  {
   "cell_type": "markdown",
   "metadata": {},
   "source": [
    "#### Naive approach:"
   ]
  },
  {
   "cell_type": "code",
   "execution_count": 4,
   "metadata": {},
   "outputs": [
    {
     "name": "stdout",
     "output_type": "stream",
     "text": [
      "Enter n: 4\n",
      "5 -2 3 4\n",
      "Maximum Circular sum subarray is:  12\n"
     ]
    }
   ],
   "source": [
    "def maxCirSumSubarray(arr, n):\n",
    "    maximum = arr[0]\n",
    "    for i in range(n):\n",
    "        current = 0\n",
    "        for j in range(i, n+i):\n",
    "            j = j % n\n",
    "            current += arr[j]\n",
    "            maximum = max(maximum, current)\n",
    "    return maximum\n",
    "\n",
    "\n",
    "n = int(input(\"Enter n: \"))\n",
    "arr = list(map(int, input().split()))\n",
    "print(\"Maximum Circular sum subarray is: \", maxCirSumSubarray(arr, n))"
   ]
  },
  {
   "cell_type": "markdown",
   "metadata": {},
   "source": [
    "#### Efficient approach:"
   ]
  },
  {
   "cell_type": "code",
   "execution_count": 5,
   "metadata": {},
   "outputs": [
    {
     "name": "stdout",
     "output_type": "stream",
     "text": [
      "Enter n: 4\n",
      "5 -2 3 4\n",
      "Maximum Circular sum subarray is:  12\n"
     ]
    }
   ],
   "source": [
    "def normalMaxSumSubarray(arr, n):\n",
    "    maximum = arr[0]\n",
    "    current_sum = arr[0]\n",
    "    for i in range(1, n):\n",
    "        current_sum = max(current_sum + arr[i], arr[i])\n",
    "        maximum = max(current_sum, maximum)\n",
    "    return maximum\n",
    "        \n",
    "def overallMaxSumSubarray(arr, n):\n",
    "    max_normal = normalMaxSumSubarray(arr, n)\n",
    "    if(max_normal < 0):\n",
    "        return max_normal\n",
    "    arr_sum = 0\n",
    "    for i in range(n):\n",
    "        arr_sum += arr[i]\n",
    "        arr[i] = -arr[i]\n",
    "    max_circular = arr_sum + normalMaxSumSubarray(arr, n)\n",
    "    return max(max_circular, max_normal)\n",
    "    \n",
    "    \n",
    "\n",
    "n = int(input(\"Enter n: \"))\n",
    "arr = list(map(int, input().split()))\n",
    "print(\"Maximum Circular sum subarray is: \", overallMaxSumSubarray(arr, n))"
   ]
  },
  {
   "cell_type": "code",
   "execution_count": null,
   "metadata": {},
   "outputs": [],
   "source": []
  },
  {
   "cell_type": "markdown",
   "metadata": {},
   "source": [
    "### 18-Mojority Element: that appears more than n/2 times in an array of size n: "
   ]
  },
  {
   "cell_type": "markdown",
   "metadata": {},
   "source": [
    "#### Naive approach:"
   ]
  },
  {
   "cell_type": "code",
   "execution_count": 7,
   "metadata": {},
   "outputs": [
    {
     "name": "stdout",
     "output_type": "stream",
     "text": [
      "2\n"
     ]
    }
   ],
   "source": [
    "def findMajority(arr, n):\n",
    "    for i in range(n):\n",
    "        count = 1\n",
    "        for j in range(i, n):\n",
    "            if(arr[j] == arr[i]):\n",
    "                count += 1\n",
    "        if(count > n//2):\n",
    "            return i\n",
    "    return -1\n",
    "\n",
    "\n",
    "n = 8\n",
    "arr = [8, 8, 6, 4, 6, 6, 6, 6]\n",
    "print(findMajority(arr, n))"
   ]
  },
  {
   "cell_type": "markdown",
   "metadata": {},
   "source": [
    "#### Efficient approach:"
   ]
  },
  {
   "cell_type": "code",
   "execution_count": 16,
   "metadata": {},
   "outputs": [
    {
     "name": "stdout",
     "output_type": "stream",
     "text": [
      "4\n"
     ]
    }
   ],
   "source": [
    "def findMajority(arr, n):\n",
    "    result = 0\n",
    "    count = 1\n",
    "    for i in range(1, n):\n",
    "        if(arr[i] == arr[result]):\n",
    "            count += 1\n",
    "        else:\n",
    "            count -= 1\n",
    "        if(count == 0):\n",
    "            result = i\n",
    "            count = 1\n",
    "    count = 0\n",
    "    for i in range(n):\n",
    "        if(arr[i] == arr[result]):\n",
    "            count += 1\n",
    "    if(count <= n//2):\n",
    "        return -1\n",
    "    return result\n",
    "    \n",
    "\n",
    "n = 11\n",
    "arr = [6, 8, 6, 4, 6, 6, 7, 6, 5, 6, 3]\n",
    "print(findMajority(arr, n))"
   ]
  },
  {
   "cell_type": "code",
   "execution_count": null,
   "metadata": {},
   "outputs": [],
   "source": []
  },
  {
   "cell_type": "markdown",
   "metadata": {},
   "source": [
    "### 19-Minimum of number of group flips to make all array elements same:"
   ]
  },
  {
   "cell_type": "markdown",
   "metadata": {},
   "source": [
    "#### Naive approach:"
   ]
  },
  {
   "cell_type": "code",
   "execution_count": 5,
   "metadata": {},
   "outputs": [
    {
     "name": "stdout",
     "output_type": "stream",
     "text": [
      "From 0 to 1\n",
      "From 4 to 5\n",
      "From 7 to 8\n",
      "From 11 to 13\n",
      "From 16 to 16\n",
      "From 18 to 18\n"
     ]
    }
   ],
   "source": [
    "def printGroups(arr, n):\n",
    "    ones = 0\n",
    "    zeros = 0\n",
    "    if(arr[0] == 1):\n",
    "        ones += 1\n",
    "        current = 1\n",
    "    else:\n",
    "        zeros += 1\n",
    "        current = 0\n",
    "    for i in range(1, n):\n",
    "        if(arr[i] != current):\n",
    "            if(arr[i] == 1):\n",
    "                ones += 1\n",
    "                current = 1\n",
    "            else:\n",
    "                zeros += 1\n",
    "                current = 0\n",
    "    if(ones < zeros):\n",
    "        lesser = 1\n",
    "    else:\n",
    "        lesser = 0\n",
    "    i = 1\n",
    "    start = 0\n",
    "    while(i != n):\n",
    "        if(arr[i] == lesser and arr[i-1] != arr[i]):\n",
    "            start = i\n",
    "        elif(arr[i] != lesser and arr[i-1] != arr[i]):\n",
    "            stop = i-1\n",
    "            print(\"From\", start, \"to\", stop)\n",
    "        i += 1\n",
    "        \n",
    "    \n",
    "            \n",
    "    \n",
    "n = 21\n",
    "arr = [0, 0, 1, 1, 0, 0, 1, 0, 0, 1, 1, 0, 0, 0, 1, 1, 0, 1, 0, 1, 1]\n",
    "printGroups(arr, n)"
   ]
  },
  {
   "cell_type": "markdown",
   "metadata": {},
   "source": [
    "#### Efficient approach:"
   ]
  },
  {
   "cell_type": "code",
   "execution_count": 6,
   "metadata": {},
   "outputs": [
    {
     "name": "stdout",
     "output_type": "stream",
     "text": [
      "From 2 to 3\n",
      "From 6 to 6\n",
      "From 9 to 10\n",
      "From 14 to 15\n",
      "From 17 to 17\n",
      "From 19 to 20\n"
     ]
    }
   ],
   "source": [
    "def printGroups(arr, n):\n",
    "    for i in range(1, n):\n",
    "        if(arr[i] != arr[i-1]):\n",
    "            if(arr[i] != arr[0]):\n",
    "                print(\"From\", i, \"to\", end = \" \")\n",
    "            else:\n",
    "                print(i-1)\n",
    "    if(arr[n-1] != arr[0]):\n",
    "        print(n-1)\n",
    "\n",
    "n = 21\n",
    "arr = [0, 0, 1, 1, 0, 0, 1, 0, 0, 1, 1, 0, 0, 0, 1, 1, 0, 1, 0, 1, 1]\n",
    "printGroups(arr, n)"
   ]
  },
  {
   "cell_type": "code",
   "execution_count": null,
   "metadata": {},
   "outputs": [],
   "source": []
  },
  {
   "cell_type": "markdown",
   "metadata": {},
   "source": [
    "### 20-Maximum Sum of K Consecutive elements:"
   ]
  },
  {
   "cell_type": "markdown",
   "metadata": {},
   "source": [
    "#### Naive approach:"
   ]
  },
  {
   "cell_type": "code",
   "execution_count": 20,
   "metadata": {},
   "outputs": [
    {
     "name": "stdout",
     "output_type": "stream",
     "text": [
      "45\n"
     ]
    }
   ],
   "source": [
    "import sys\n",
    "\n",
    "def maxKsum(arr, k, n):\n",
    "    max_sum = -sys.maxsize\n",
    "    for i in range(n-k+1):\n",
    "        current_sum = 0\n",
    "        for j in range(i, k+i):\n",
    "            current_sum += arr[j]\n",
    "        max_sum = max(max_sum, current_sum)\n",
    "    return max_sum\n",
    "            \n",
    "\n",
    "\n",
    "n = 6\n",
    "k = 3\n",
    "arr = [1, 8, 30, -5, 20, 7]\n",
    "print(maxKsum(arr, k, n))"
   ]
  },
  {
   "cell_type": "markdown",
   "metadata": {},
   "source": [
    "#### Efficient approach (Sliding Window):"
   ]
  },
  {
   "cell_type": "code",
   "execution_count": 24,
   "metadata": {},
   "outputs": [
    {
     "name": "stdout",
     "output_type": "stream",
     "text": [
      "45\n"
     ]
    }
   ],
   "source": [
    "import sys\n",
    "\n",
    "def maxKsum(arr, k, n):\n",
    "    current_sum = 0\n",
    "    for i in range(k):\n",
    "        current_sum += arr[i]\n",
    "    max_sum = current_sum\n",
    "    for j in range(k, n):\n",
    "        current_sum += (arr[j] - arr[j-k])\n",
    "        max_sum = max(max_sum, current_sum)\n",
    "    return max_sum\n",
    "        \n",
    "    \n",
    "n = 6\n",
    "k = 3\n",
    "arr = [1, 8, 30, -5, 20, 7]\n",
    "print(maxKsum(arr, k, n))"
   ]
  },
  {
   "cell_type": "code",
   "execution_count": null,
   "metadata": {},
   "outputs": [],
   "source": []
  },
  {
   "cell_type": "markdown",
   "metadata": {},
   "source": [
    "### 20-Find subarray with given sum:"
   ]
  },
  {
   "cell_type": "markdown",
   "metadata": {},
   "source": [
    "#### Naive solution:"
   ]
  },
  {
   "cell_type": "code",
   "execution_count": 56,
   "metadata": {},
   "outputs": [
    {
     "name": "stdout",
     "output_type": "stream",
     "text": [
      "Sum found between 1 and 4\n",
      "Sum found between 7 and 7\n"
     ]
    }
   ],
   "source": [
    "def subArraySum(arr, n, summation):\n",
    "    for i in range(n):\n",
    "        current_sum = 0\n",
    "        for j in range(i, n):\n",
    "            current_sum += arr[j]\n",
    "            if(current_sum == summation):\n",
    "                print(\"Sum found between\", i, \"and\", j)\n",
    "\n",
    "\n",
    "n = 8\n",
    "arr = [15, 2, 4, 8, 9, 5, 10, 23]\n",
    "summation = 23\n",
    "subArraySum(arr, n, summation)"
   ]
  },
  {
   "cell_type": "markdown",
   "metadata": {},
   "source": [
    "#### Efficient solution:"
   ]
  },
  {
   "cell_type": "code",
   "execution_count": 1,
   "metadata": {},
   "outputs": [
    {
     "name": "stdout",
     "output_type": "stream",
     "text": [
      "No subarray found\n"
     ]
    }
   ],
   "source": [
    "def subArraySum(arr, n, summation):\n",
    "    current_sum = arr[0]\n",
    "    start = 0\n",
    "    for e in range(1, n+1):\n",
    "        # If current_sum exceeds the summation, then remove the starting elements \n",
    "        while(current_sum > summation and start < e-1):\n",
    "            current_sum -= arr[start]\n",
    "            start += 1\n",
    "            \n",
    "        # If curr_sum becomes equal to sum, then return true\n",
    "        if(current_sum == summation):\n",
    "            print(\"Sum found between\", start, \"and\", e-1)\n",
    "            return\n",
    "        \n",
    "        # Add this element to curr_sum \n",
    "        if(e < n):\n",
    "            current_sum += arr[e]\n",
    "            \n",
    "    print(\"No subarray found\") \n",
    "    return \n",
    "    \n",
    "n = 4\n",
    "arr = [9, 45,10,190]\n",
    "summation = 225\n",
    "subArraySum(arr, n, summation)"
   ]
  },
  {
   "cell_type": "code",
   "execution_count": null,
   "metadata": {},
   "outputs": [],
   "source": []
  },
  {
   "cell_type": "markdown",
   "metadata": {},
   "source": [
    "### 20-N-bonacci numbers:"
   ]
  },
  {
   "cell_type": "code",
   "execution_count": 60,
   "metadata": {},
   "outputs": [
    {
     "name": "stdout",
     "output_type": "stream",
     "text": [
      "Enter the number of elements: 20\n",
      "Enter the number of bonnaci: 7\n",
      "0 0 0 0 0 0 1 1 2 4 8 16 32 64 127 253 504 1004 2000 3984\n"
     ]
    }
   ],
   "source": [
    "def bonacciSeries(n, m):\n",
    "    arr = [0] * m\n",
    "    arr[n-1] = 1\n",
    "    arr[n] = 1\n",
    "    # By using sliding window\n",
    "    for i in range(n+1, m):\n",
    "        arr[i] = 2*arr[i-1] - arr[i-n-1]\n",
    "    \n",
    "    print(*arr)\n",
    "\n",
    "\n",
    "m = int(input(\"Enter the number of elements: \"))\n",
    "n = int(input(\"Enter the number of bonnaci: \"))\n",
    "bonacciSeries(n, m)"
   ]
  },
  {
   "cell_type": "code",
   "execution_count": null,
   "metadata": {},
   "outputs": [],
   "source": []
  },
  {
   "cell_type": "markdown",
   "metadata": {},
   "source": [
    "### 20-Count distinct element in every window of size k:"
   ]
  },
  {
   "cell_type": "code",
   "execution_count": null,
   "metadata": {},
   "outputs": [],
   "source": []
  },
  {
   "cell_type": "code",
   "execution_count": null,
   "metadata": {},
   "outputs": [],
   "source": []
  },
  {
   "cell_type": "code",
   "execution_count": null,
   "metadata": {},
   "outputs": [],
   "source": []
  },
  {
   "cell_type": "markdown",
   "metadata": {},
   "source": [
    "### 21-Prefix Sum:"
   ]
  },
  {
   "cell_type": "markdown",
   "metadata": {},
   "source": [
    "#### 1. Prefix sum:"
   ]
  },
  {
   "cell_type": "code",
   "execution_count": 67,
   "metadata": {},
   "outputs": [
    {
     "name": "stdout",
     "output_type": "stream",
     "text": [
      "[2, 10, 13, 22, 28, 33, 37]\n",
      "20\n",
      "13\n"
     ]
    }
   ],
   "source": [
    "def preSum(arr, n):\n",
    "    for i in range(1, n):\n",
    "        arr[i] = arr[i-1] + arr[i]\n",
    "        \n",
    "def getSum(arr, start, end):\n",
    "    if(start == 0):\n",
    "        print(arr[end])\n",
    "    else:\n",
    "        print(arr[end] - arr[start-1])\n",
    "\n",
    "        \n",
    "n = 7\n",
    "arr = [2, 8, 3, 9, 6, 5, 4]\n",
    "preSum(arr, n)\n",
    "print(arr)\n",
    "getSum(arr, 1, 3)\n",
    "getSum(arr, 0, 2)"
   ]
  },
  {
   "cell_type": "markdown",
   "metadata": {},
   "source": [
    "### 21-Equilibrium Point:"
   ]
  },
  {
   "cell_type": "markdown",
   "metadata": {},
   "source": [
    "#### Equilibrium Point(Naive Method):"
   ]
  },
  {
   "cell_type": "code",
   "execution_count": 96,
   "metadata": {},
   "outputs": [
    {
     "name": "stdout",
     "output_type": "stream",
     "text": [
      "Equilibrium index is:  3\n",
      "Equilibrium index is:  0\n",
      "Equilibrium index is:  2\n"
     ]
    }
   ],
   "source": [
    "def preSum(arr, n):\n",
    "    for i in range(1, n):\n",
    "        arr[i] = arr[i-1] + arr[i]\n",
    "    return arr\n",
    "        \n",
    "def EquilibriumPoint(arr, n):\n",
    "    arr = preSum(arr, n)\n",
    "    for i in range(0, n):\n",
    "        if(i != 0 and i != n-1):\n",
    "            if(arr[i-1] == arr[n-1]-arr[i]):\n",
    "                return i\n",
    "        elif(i == 0):\n",
    "            if(arr[n-1] - arr[i] == 0):\n",
    "                return i\n",
    "        else:\n",
    "            if(arr[n-2] == 0):\n",
    "                return i\n",
    "    return None\n",
    "\n",
    "n = 6\n",
    "a = [3, 4, 8, -9, 9, 6]\n",
    "print(\"Equilibrium index is: \", EquilibriumPoint(a, n))\n",
    "\n",
    "n = 3\n",
    "a = [4, -2, 2]\n",
    "print(\"Equilibrium index is: \", EquilibriumPoint(a, n))\n",
    "\n",
    "n = 3\n",
    "a = [2, -2, 8]\n",
    "print(\"Equilibrium index is: \", EquilibriumPoint(a, n))"
   ]
  },
  {
   "cell_type": "code",
   "execution_count": null,
   "metadata": {},
   "outputs": [],
   "source": []
  },
  {
   "cell_type": "markdown",
   "metadata": {},
   "source": [
    "#### Equilibrium Point(Efficient Method):"
   ]
  },
  {
   "cell_type": "code",
   "execution_count": 114,
   "metadata": {
    "scrolled": true
   },
   "outputs": [
    {
     "name": "stdout",
     "output_type": "stream",
     "text": [
      "Equilibrium index is:  3\n",
      "Equilibrium index is:  0\n",
      "Equilibrium index is:  2\n"
     ]
    }
   ],
   "source": [
    "def preSum(arr, n):\n",
    "    preArr = [0] * n\n",
    "    preArr[0] = arr[0]\n",
    "    for i in range(1, n):\n",
    "        preArr[i] = preArr[i-1] + arr[i]\n",
    "    return preArr\n",
    "\n",
    "def sufSum(arr, n):\n",
    "    sufArr = [0] * n\n",
    "    sufArr[-1] = arr[-1]\n",
    "    for i in range(-2, -n-1, -1):\n",
    "        sufArr[i] = sufArr[i+1] + arr[i]\n",
    "    return sufArr\n",
    "        \n",
    "def EquilibriumPoint(arr, n):\n",
    "    preArr = preSum(arr, n)\n",
    "    sufArr = sufSum(arr, n)\n",
    "    for i in range(n):\n",
    "        if(preArr[i] == sufArr[i]):\n",
    "            return i\n",
    "    return None\n",
    "        \n",
    "\n",
    "n = 6\n",
    "a = [3, 4, 8, -9, 9, 6]\n",
    "print(\"Equilibrium index is: \", EquilibriumPoint(a, n))\n",
    "\n",
    "n = 3\n",
    "a = [4, -2, 2]\n",
    "print(\"Equilibrium index is: \", EquilibriumPoint(a, n))\n",
    "\n",
    "n = 3\n",
    "a = [2, -2, 8]\n",
    "print(\"Equilibrium index is: \", EquilibriumPoint(a, n))"
   ]
  },
  {
   "cell_type": "markdown",
   "metadata": {},
   "source": [
    "#### Equilibrium Point(More Efficient Method without prefix sum):"
   ]
  },
  {
   "cell_type": "code",
   "execution_count": 116,
   "metadata": {},
   "outputs": [
    {
     "name": "stdout",
     "output_type": "stream",
     "text": [
      "Equilibrium index is:  3\n",
      "Equilibrium index is:  0\n",
      "Equilibrium index is:  2\n"
     ]
    }
   ],
   "source": [
    "def EquilibriumPoint(arr, n):\n",
    "    total_sum = sum(arr)\n",
    "    l_sum = 0\n",
    "    for i in range(n):\n",
    "        if(l_sum == total_sum - arr[i]):\n",
    "            return i\n",
    "        l_sum += arr[i]\n",
    "        total_sum -= arr[i]\n",
    "    return None\n",
    "        \n",
    "\n",
    "n = 6\n",
    "a = [3, 4, 8, -9, 9, 6]\n",
    "print(\"Equilibrium index is: \", EquilibriumPoint(a, n))\n",
    "\n",
    "n = 3\n",
    "a = [4, -2, 2]\n",
    "print(\"Equilibrium index is: \", EquilibriumPoint(a, n))\n",
    "\n",
    "n = 3\n",
    "a = [2, -2, 8]\n",
    "print(\"Equilibrium index is: \", EquilibriumPoint(a, n))"
   ]
  },
  {
   "cell_type": "code",
   "execution_count": null,
   "metadata": {},
   "outputs": [],
   "source": []
  },
  {
   "cell_type": "markdown",
   "metadata": {},
   "source": [
    "### 22-Maximum Occuring Element:"
   ]
  },
  {
   "cell_type": "code",
   "execution_count": 117,
   "metadata": {},
   "outputs": [
    {
     "name": "stdout",
     "output_type": "stream",
     "text": [
      "3\n"
     ]
    }
   ],
   "source": [
    "def maxOcc(l, r, n):\n",
    "    arr = [0] * 1000\n",
    "    for i in range(n):\n",
    "        arr[l[i]] += 1\n",
    "        arr[r[i] + 1] -= 1\n",
    "    maxm = arr[0]\n",
    "    res = 0\n",
    "    for i in range(1, 1000):\n",
    "        arr[i] += arr[i-1]\n",
    "        if(maxm < arr[i]):\n",
    "            maxm = arr[i]\n",
    "            res = i\n",
    "    return res\n",
    "        \n",
    "\n",
    "n = 3\n",
    "l = [1, 2, 3]\n",
    "r = [3, 5, 7]\n",
    "print(maxOcc(l, r, n))"
   ]
  },
  {
   "cell_type": "code",
   "execution_count": null,
   "metadata": {},
   "outputs": [],
   "source": []
  },
  {
   "cell_type": "markdown",
   "metadata": {},
   "source": [
    "## Solved Problems:"
   ]
  },
  {
   "cell_type": "code",
   "execution_count": null,
   "metadata": {},
   "outputs": [],
   "source": []
  },
  {
   "cell_type": "code",
   "execution_count": null,
   "metadata": {},
   "outputs": [],
   "source": []
  },
  {
   "cell_type": "code",
   "execution_count": null,
   "metadata": {},
   "outputs": [],
   "source": []
  },
  {
   "cell_type": "code",
   "execution_count": null,
   "metadata": {},
   "outputs": [],
   "source": []
  },
  {
   "cell_type": "code",
   "execution_count": null,
   "metadata": {},
   "outputs": [],
   "source": []
  },
  {
   "cell_type": "code",
   "execution_count": null,
   "metadata": {},
   "outputs": [],
   "source": []
  },
  {
   "cell_type": "code",
   "execution_count": null,
   "metadata": {},
   "outputs": [],
   "source": []
  },
  {
   "cell_type": "code",
   "execution_count": null,
   "metadata": {},
   "outputs": [],
   "source": []
  },
  {
   "cell_type": "code",
   "execution_count": null,
   "metadata": {},
   "outputs": [],
   "source": []
  }
 ],
 "metadata": {
  "kernelspec": {
   "display_name": "Python 3",
   "language": "python",
   "name": "python3"
  },
  "language_info": {
   "codemirror_mode": {
    "name": "ipython",
    "version": 3
   },
   "file_extension": ".py",
   "mimetype": "text/x-python",
   "name": "python",
   "nbconvert_exporter": "python",
   "pygments_lexer": "ipython3",
   "version": "3.8.6"
  }
 },
 "nbformat": 4,
 "nbformat_minor": 4
}
