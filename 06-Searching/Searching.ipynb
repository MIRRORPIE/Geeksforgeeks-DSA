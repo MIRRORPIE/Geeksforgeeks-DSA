{
 "cells": [
  {
   "cell_type": "markdown",
   "metadata": {},
   "source": [
    "## Searching:---------->"
   ]
  },
  {
   "cell_type": "markdown",
   "metadata": {},
   "source": [
    "### 01-Binary Search:"
   ]
  },
  {
   "cell_type": "code",
   "execution_count": 4,
   "metadata": {},
   "outputs": [
    {
     "name": "stdout",
     "output_type": "stream",
     "text": [
      "Enter the number of elements: 8\n",
      "Enter array: 10 20 30 40 50 60 70 80\n",
      "Enter element to be searched: 70\n",
      "6\n"
     ]
    }
   ],
   "source": [
    "def bSearch(arr, n, k):\n",
    "    low = 0\n",
    "    high = n-1\n",
    "    while(low <= high):\n",
    "        mid = (low + high)//2\n",
    "        if(k == arr[mid]):\n",
    "            return mid\n",
    "        elif(k < arr[mid]):\n",
    "            high = mid-1\n",
    "        else:\n",
    "            low = mid+1\n",
    "    return -1\n",
    "\n",
    "\n",
    "n = int(input(\"Enter the number of elements: \"))\n",
    "arr = list(map(int, input(\"Enter array: \").split()))\n",
    "k = int(input(\"Enter element to be searched: \"))\n",
    "print(bSearch(arr, n, k))"
   ]
  },
  {
   "cell_type": "code",
   "execution_count": null,
   "metadata": {},
   "outputs": [],
   "source": []
  },
  {
   "cell_type": "markdown",
   "metadata": {},
   "source": [
    "### 02-Recursive Binary search:"
   ]
  },
  {
   "cell_type": "code",
   "execution_count": 7,
   "metadata": {},
   "outputs": [
    {
     "name": "stdout",
     "output_type": "stream",
     "text": [
      "Enter the number of elements: 8\n",
      "Enter array: 10 20 30 40 50 60 70 80\n",
      "Enter element to be searched: 700\n",
      "-1\n"
     ]
    }
   ],
   "source": [
    "def RbSearch(arr, low, high, k):\n",
    "    if(low > high):\n",
    "        return -1\n",
    "    mid = (low + high) // 2\n",
    "    if(arr[mid] == k):\n",
    "        return mid\n",
    "    elif(k < arr[mid]):\n",
    "        return RbSearch(arr, low, mid-1, k)\n",
    "    else:\n",
    "        return RbSearch(arr, mid+1, high, k)\n",
    "\n",
    "\n",
    "n = int(input(\"Enter the number of elements: \"))\n",
    "arr = list(map(int, input(\"Enter array: \").split()))\n",
    "k = int(input(\"Enter element to be searched: \"))\n",
    "print(RbSearch(arr, 0, n-1, k))"
   ]
  },
  {
   "cell_type": "code",
   "execution_count": null,
   "metadata": {},
   "outputs": [],
   "source": []
  },
  {
   "cell_type": "markdown",
   "metadata": {},
   "source": [
    "### 03-index of first occurrence of x:\n",
    "#### Naive approach:O(n):"
   ]
  },
  {
   "cell_type": "code",
   "execution_count": 9,
   "metadata": {},
   "outputs": [
    {
     "name": "stdout",
     "output_type": "stream",
     "text": [
      "Enter the number of elements: 8\n",
      "Enter array: 10 20 30 40 40 40 70 80\n",
      "Enter element to be searched: 40\n",
      "3\n"
     ]
    }
   ],
   "source": [
    "def firstOccurrence(arr, n, k):\n",
    "    for i in range(n):\n",
    "        if(arr[i] == k):\n",
    "            return i\n",
    "    return -1\n",
    "\n",
    "\n",
    "n = int(input(\"Enter the number of elements: \"))\n",
    "arr = list(map(int, input(\"Enter array: \").split()))\n",
    "k = int(input(\"Enter element to be searched: \"))\n",
    "print(firstOccurrence(arr, n, k))"
   ]
  },
  {
   "cell_type": "markdown",
   "metadata": {},
   "source": [
    "#### Iterative approach: Tme: O(logn) and Space: O(1):"
   ]
  },
  {
   "cell_type": "code",
   "execution_count": 12,
   "metadata": {},
   "outputs": [
    {
     "name": "stdout",
     "output_type": "stream",
     "text": [
      "Enter the number of elements: 5\n",
      "Enter array: 1 1 1 2 3\n",
      "Enter element to be searched: 1\n",
      "0\n"
     ]
    }
   ],
   "source": [
    "def firstOccIter(arr, n, k):\n",
    "    low = 0\n",
    "    high = n - 1\n",
    "    while(low <= high):\n",
    "        mid = (low + high) // 2\n",
    "        if(k < arr[mid]):\n",
    "            high = mid - 1\n",
    "        elif(k > arr[mid]):\n",
    "            low = mid + 1\n",
    "        else:\n",
    "            if(mid == 0 or arr[mid-1] != arr[mid]):\n",
    "                return mid\n",
    "            else:\n",
    "                high = mid - 1\n",
    "    return -1\n",
    "\n",
    "\n",
    "n = int(input(\"Enter the number of elements: \"))\n",
    "arr = list(map(int, input(\"Enter array: \").split()))\n",
    "k = int(input(\"Enter element to be searched: \"))\n",
    "print(firstOccIter(arr, n, k))"
   ]
  },
  {
   "cell_type": "markdown",
   "metadata": {},
   "source": [
    "#### Recursive approach: Time: O(logn) and Space: O(logn):"
   ]
  },
  {
   "cell_type": "code",
   "execution_count": 17,
   "metadata": {},
   "outputs": [
    {
     "name": "stdout",
     "output_type": "stream",
     "text": [
      "Enter the number of elements: 6\n",
      "Enter array: 1 2 2 2 3 4\n",
      "Enter element to be searched: 2\n",
      "1\n"
     ]
    }
   ],
   "source": [
    "def firstOccRecur(arr, low, high, k):\n",
    "    if(low > high):\n",
    "        return -1\n",
    "    mid = (low + high) // 2\n",
    "    if(k < arr[mid]):\n",
    "        return firstOccRecur(arr, low, mid-1, k)\n",
    "    elif(k > arr[mid]):\n",
    "        return firstOccRecur(arr, mid+1, high, k)\n",
    "    else:\n",
    "        if(mid == 0 or arr[mid-1] != arr[mid]):\n",
    "            return mid\n",
    "        else:\n",
    "            return firstOccRecur(arr, low, mid-1, k)\n",
    "        \n",
    "    return -1\n",
    "\n",
    "\n",
    "n = int(input(\"Enter the number of elements: \"))\n",
    "arr = list(map(int, input(\"Enter array: \").split()))\n",
    "k = int(input(\"Enter element to be searched: \"))\n",
    "print(firstOccRecur(arr, 0, n-1, k))"
   ]
  },
  {
   "cell_type": "code",
   "execution_count": null,
   "metadata": {},
   "outputs": [],
   "source": []
  },
  {
   "cell_type": "markdown",
   "metadata": {},
   "source": [
    "### 04-index of last occurrence of x:\n",
    "#### Naive approach:O(n):"
   ]
  },
  {
   "cell_type": "code",
   "execution_count": 23,
   "metadata": {},
   "outputs": [
    {
     "name": "stdout",
     "output_type": "stream",
     "text": [
      "Enter the number of elements: 5\n",
      "Enter array: 1 1 1 2 3\n",
      "Enter element to be searched: 1\n",
      "2\n"
     ]
    }
   ],
   "source": [
    "def lastOcc(arr, n, k):\n",
    "    for i in range(-1, -n-1, -1):\n",
    "        if(arr[i] == k):\n",
    "            return n+i\n",
    "    return -1\n",
    "\n",
    "\n",
    "n = int(input(\"Enter the number of elements: \"))\n",
    "arr = list(map(int, input(\"Enter array: \").split()))\n",
    "k = int(input(\"Enter element to be searched: \"))\n",
    "print(lastOcc(arr, n, k))"
   ]
  },
  {
   "cell_type": "markdown",
   "metadata": {},
   "source": [
    "#### Iterative approach: Tme: O(logn) and Space: O(1):"
   ]
  },
  {
   "cell_type": "code",
   "execution_count": 24,
   "metadata": {},
   "outputs": [
    {
     "name": "stdout",
     "output_type": "stream",
     "text": [
      "Enter the number of elements: 5\n",
      "Enter array: 1 1 1 2 3\n",
      "Enter element to be searched: 1\n",
      "2\n"
     ]
    }
   ],
   "source": [
    "def lastOccIter(arr, n, k):\n",
    "    low = 0\n",
    "    high = n - 1\n",
    "    while(low <= high):\n",
    "        mid = (low + high) // 2\n",
    "        if(k < arr[mid]):\n",
    "            high = mid - 1\n",
    "        elif(k > arr[mid]):\n",
    "            low = mid + 1\n",
    "        else:\n",
    "            if(mid == n-1 or arr[mid+1] != arr[mid]):\n",
    "                return mid\n",
    "            else:\n",
    "                low = mid + 1\n",
    "    return -1\n",
    "\n",
    "\n",
    "n = int(input(\"Enter the number of elements: \"))\n",
    "arr = list(map(int, input(\"Enter array: \").split()))\n",
    "k = int(input(\"Enter element to be searched: \"))\n",
    "print(lastOccIter(arr, n, k))"
   ]
  },
  {
   "cell_type": "markdown",
   "metadata": {},
   "source": [
    "#### Recursive approach: Time: O(logn) and Space: O(logn):"
   ]
  },
  {
   "cell_type": "code",
   "execution_count": 25,
   "metadata": {},
   "outputs": [
    {
     "name": "stdout",
     "output_type": "stream",
     "text": [
      "Enter the number of elements: 5\n",
      "Enter array: 1 1 1 2 3\n",
      "Enter element to be searched: 1\n",
      "2\n"
     ]
    }
   ],
   "source": [
    "def lastOccRecur(arr, low, high, k):\n",
    "    if(low > high):\n",
    "        return -1\n",
    "    mid = (low + high) // 2\n",
    "    if(k < arr[mid]):\n",
    "        return firstOccRecur(arr, low, mid-1, k)\n",
    "    elif(k > arr[mid]):\n",
    "        return firstOccRecur(arr, mid+1, high, k)\n",
    "    else:\n",
    "        if(mid == n-1 or arr[mid+1] != arr[mid]):\n",
    "            return mid\n",
    "        else:\n",
    "            return firstOccRecur(arr, mid+1, high, k)\n",
    "        \n",
    "    return -1\n",
    "\n",
    "\n",
    "n = int(input(\"Enter the number of elements: \"))\n",
    "arr = list(map(int, input(\"Enter array: \").split()))\n",
    "k = int(input(\"Enter element to be searched: \"))\n",
    "print(lastOccRecur(arr, 0, n-1, k))"
   ]
  },
  {
   "cell_type": "code",
   "execution_count": null,
   "metadata": {},
   "outputs": [],
   "source": []
  },
  {
   "cell_type": "markdown",
   "metadata": {},
   "source": [
    "### 05-count occurrences of x in the sorted array:"
   ]
  },
  {
   "cell_type": "code",
   "execution_count": 26,
   "metadata": {},
   "outputs": [
    {
     "name": "stdout",
     "output_type": "stream",
     "text": [
      "4\n"
     ]
    }
   ],
   "source": [
    "def firstOccIter(arr, n, k):\n",
    "    low = 0\n",
    "    high = n - 1\n",
    "    while(low <= high):\n",
    "        mid = (low + high) // 2\n",
    "        if(k < arr[mid]):\n",
    "            high = mid - 1\n",
    "        elif(k > arr[mid]):\n",
    "            low = mid + 1\n",
    "        else:\n",
    "            if(mid == 0 or arr[mid-1] != arr[mid]):\n",
    "                return mid\n",
    "            else:\n",
    "                high = mid - 1\n",
    "    return -1\n",
    "\n",
    "\n",
    "def lastOccIter(arr, n, k):\n",
    "    low = 0\n",
    "    high = n - 1\n",
    "    while(low <= high):\n",
    "        mid = (low + high) // 2\n",
    "        if(k < arr[mid]):\n",
    "            high = mid - 1\n",
    "        elif(k > arr[mid]):\n",
    "            low = mid + 1\n",
    "        else:\n",
    "            if(mid == n-1 or arr[mid+1] != arr[mid]):\n",
    "                return mid\n",
    "            else:\n",
    "                low = mid + 1\n",
    "    return -1\n",
    "\n",
    "def countOcc(arr, n, k):\n",
    "    first = firstOccIter(arr, n, k)\n",
    "    if(first == -1):\n",
    "        return 0\n",
    "    else:\n",
    "        return lastOccIter(arr, n, k) - first + 1\n",
    "\n",
    "\n",
    "n = 10\n",
    "arr = [10, 10, 20, 20, 20, 20, 40, 40, 50, 60]\n",
    "k = 20\n",
    "print(countOcc(arr, n, k))"
   ]
  },
  {
   "cell_type": "code",
   "execution_count": null,
   "metadata": {},
   "outputs": [],
   "source": []
  },
  {
   "cell_type": "markdown",
   "metadata": {},
   "source": [
    "### 06-count 1s in sorted binary array:"
   ]
  },
  {
   "cell_type": "code",
   "execution_count": 30,
   "metadata": {},
   "outputs": [
    {
     "name": "stdout",
     "output_type": "stream",
     "text": [
      "6\n"
     ]
    }
   ],
   "source": [
    "def countOnes(arr, n):\n",
    "    low = 0\n",
    "    high = n - 1\n",
    "    while(low <= high):\n",
    "        mid = (low + high) // 2\n",
    "        if(1 < arr[mid]):\n",
    "            high = mid - 1\n",
    "        elif(1 > arr[mid]):\n",
    "            low = mid + 1\n",
    "        else:\n",
    "            if(mid == 0 or arr[mid-1] != arr[mid]):\n",
    "                return n-mid\n",
    "            else:\n",
    "                high = mid - 1\n",
    "    return 0\n",
    "\n",
    "n = 10\n",
    "arr = [0, 0, 0, 0, 1, 1, 1, 1, 1, 1]\n",
    "print(countOnes(arr, n))"
   ]
  },
  {
   "cell_type": "code",
   "execution_count": null,
   "metadata": {},
   "outputs": [],
   "source": []
  },
  {
   "cell_type": "markdown",
   "metadata": {},
   "source": [
    "### 07-floor of square root Efficient:"
   ]
  },
  {
   "cell_type": "code",
   "execution_count": 43,
   "metadata": {},
   "outputs": [
    {
     "name": "stdout",
     "output_type": "stream",
     "text": [
      "0:0  1:1  2:1  3:1  4:2  5:2  6:2  7:2  8:2  9:3  10:3  11:3  12:3  13:3  14:3  15:3  16:4  17:4  18:4  19:4  20:4  21:4  22:4  23:4  24:4  25:5  26:5  27:5  28:5  29:5  30:5  31:5  32:5  33:5  34:5  35:5  36:6  37:6  38:6  39:6  40:6  41:6  42:6  43:6  44:6  45:6  46:6  47:6  48:6  49:7  50:7  "
     ]
    }
   ],
   "source": [
    "def sqRootFloor(n):\n",
    "    low = 1\n",
    "    high = n\n",
    "    ans = 0\n",
    "    while(low <= high):\n",
    "        mid = (low+high) // 2\n",
    "        midSq = mid * mid\n",
    "        if(midSq == n):\n",
    "            return mid\n",
    "        elif(midSq > n):\n",
    "            high = mid - 1\n",
    "        else:\n",
    "            low = mid + 1\n",
    "            ans = mid\n",
    "            \n",
    "    return ans\n",
    "\n",
    "for i in range(51):\n",
    "    print(i, sqRootFloor(i), end = \"  \", sep = \":\")"
   ]
  },
  {
   "cell_type": "code",
   "execution_count": null,
   "metadata": {},
   "outputs": [],
   "source": []
  },
  {
   "cell_type": "markdown",
   "metadata": {},
   "source": [
    "### 08-Seaching in infinite sized sorted array Efficient:"
   ]
  },
  {
   "cell_type": "code",
   "execution_count": 44,
   "metadata": {},
   "outputs": [
    {
     "name": "stdout",
     "output_type": "stream",
     "text": [
      "13\n"
     ]
    }
   ],
   "source": [
    "def bSearch(arr, low, high, k):\n",
    "    while(low <= high):\n",
    "        mid = (low + high) // 2\n",
    "        if(arr[mid] == k):\n",
    "            return mid\n",
    "        elif(arr[mid] < k):\n",
    "            low = mid + 1\n",
    "        else:\n",
    "            high = mid - 1\n",
    "    return -1\n",
    "\n",
    "def search(arr, k):\n",
    "    if(arr[0] == k):\n",
    "        return 0\n",
    "    i = 1\n",
    "    while(arr[i] < k):\n",
    "        i = i * 2\n",
    "    if(arr[i] == k):\n",
    "        return i\n",
    "    return bSearch(arr, i//2+1, i-1, k)\n",
    "\n",
    "arr = [1,1,1,1,2,2,3,3,3,4,5,6,6,7,9,10,11,18,78,100,102,108,111,1111,11111,111111,111111]\n",
    "print(search(arr, 7))"
   ]
  },
  {
   "cell_type": "code",
   "execution_count": null,
   "metadata": {},
   "outputs": [],
   "source": []
  },
  {
   "cell_type": "markdown",
   "metadata": {},
   "source": [
    "### 09-Search an element in a sorted and rotated array:"
   ]
  },
  {
   "cell_type": "code",
   "execution_count": 2,
   "metadata": {},
   "outputs": [
    {
     "name": "stdout",
     "output_type": "stream",
     "text": [
      "Enter the number of elements: 8\n",
      "Enter array: 20 30 40 50 60 1 5 6\n",
      "Enter element to be searched: 1\n",
      "5\n"
     ]
    }
   ],
   "source": [
    "def bSearchRotated(arr, n, k):\n",
    "    low = 0\n",
    "    high = n - 1\n",
    "    while(low <= high):\n",
    "        mid = (low + high) // 2\n",
    "        if(arr[mid] == k):\n",
    "            return mid\n",
    "        if(arr[low] < arr[mid]):\n",
    "            if(k >= arr[low] and k < arr[mid]):\n",
    "                high = mid - 1\n",
    "            else:\n",
    "                low = mid + 1\n",
    "        else:\n",
    "            if(k > arr[mid] and k <= arr[high]):\n",
    "                low = mid + 1\n",
    "            else:\n",
    "                high = mid - 1\n",
    "    return -1\n",
    "\n",
    "\n",
    "n = int(input(\"Enter the number of elements: \"))\n",
    "arr = list(map(int, input(\"Enter array: \").split()))\n",
    "k = int(input(\"Enter element to be searched: \"))\n",
    "print(bSearchRotated(arr, n, k))"
   ]
  },
  {
   "cell_type": "code",
   "execution_count": null,
   "metadata": {},
   "outputs": [],
   "source": []
  },
  {
   "cell_type": "markdown",
   "metadata": {},
   "source": [
    "### 10-Peak Element: (Not less than its neighbours):\n",
    "#### Naive approach:"
   ]
  },
  {
   "cell_type": "code",
   "execution_count": 8,
   "metadata": {},
   "outputs": [
    {
     "name": "stdout",
     "output_type": "stream",
     "text": [
      "10\n",
      "20\n"
     ]
    }
   ],
   "source": [
    "def getPeak(arr, n):\n",
    "    if(n == 1):\n",
    "        print(arr[0])\n",
    "    else:\n",
    "        if(arr[0] > arr[1]):\n",
    "            print(arr[0])\n",
    "        if(arr[-1] > arr[-2]):\n",
    "            print(arr[-1])\n",
    "        for i in range(1, n-1):\n",
    "            if(arr[i] > arr[i-1] and arr[i] > arr[i+1]):\n",
    "                print(arr[i])\n",
    "\n",
    "n = 5\n",
    "arr = [10, 7, 8, 20, 12]\n",
    "getPeak(arr, n)"
   ]
  },
  {
   "cell_type": "code",
   "execution_count": 9,
   "metadata": {},
   "outputs": [
    {
     "name": "stdout",
     "output_type": "stream",
     "text": [
      "10\n"
     ]
    }
   ],
   "source": [
    "def getPeak(arr, n):\n",
    "    if(n == 1):\n",
    "        return arr[0]\n",
    "    if(arr[0] > arr[1]):\n",
    "        return arr[0]\n",
    "    if(arr[-1] > arr[-2]):\n",
    "        return arr[-1]\n",
    "    for i in range(1, n-1):\n",
    "        if(arr[i] > arr[i-1] and arr[i] > arr[i+1]):\n",
    "            return arr[i]\n",
    "\n",
    "n = 5\n",
    "arr = [10, 7, 8, 20, 12]\n",
    "print(getPeak(arr, n))"
   ]
  },
  {
   "cell_type": "markdown",
   "metadata": {},
   "source": [
    "#### Efficient approach:"
   ]
  },
  {
   "cell_type": "code",
   "execution_count": 5,
   "metadata": {},
   "outputs": [
    {
     "name": "stdout",
     "output_type": "stream",
     "text": [
      "20\n"
     ]
    }
   ],
   "source": [
    "def getPeak(arr, n):\n",
    "    low = 0\n",
    "    high = n - 1\n",
    "    while(low <= high):\n",
    "        mid = (low + high) // 2\n",
    "        if((mid == 0 or arr[mid-1] < arr[mid]) and (mid == n-1 or arr[mid+1] < arr[mid])):\n",
    "            return mid\n",
    "        if(mid > 0 and arr[mid-1] >= arr[mid]):\n",
    "            high = mid - 1\n",
    "        else:\n",
    "            low = mid + 1\n",
    "    return -1\n",
    "\n",
    "\n",
    "n = 5\n",
    "arr = [10, 7, 8, 20, 12]\n",
    "print(arr[getPeak(arr, n)])"
   ]
  },
  {
   "cell_type": "code",
   "execution_count": null,
   "metadata": {},
   "outputs": [],
   "source": []
  },
  {
   "cell_type": "markdown",
   "metadata": {},
   "source": [
    "### 11-"
   ]
  },
  {
   "cell_type": "code",
   "execution_count": null,
   "metadata": {},
   "outputs": [],
   "source": []
  },
  {
   "cell_type": "code",
   "execution_count": null,
   "metadata": {},
   "outputs": [],
   "source": []
  },
  {
   "cell_type": "code",
   "execution_count": null,
   "metadata": {},
   "outputs": [],
   "source": []
  },
  {
   "cell_type": "code",
   "execution_count": null,
   "metadata": {},
   "outputs": [],
   "source": []
  },
  {
   "cell_type": "code",
   "execution_count": null,
   "metadata": {},
   "outputs": [],
   "source": []
  },
  {
   "cell_type": "code",
   "execution_count": null,
   "metadata": {},
   "outputs": [],
   "source": []
  },
  {
   "cell_type": "code",
   "execution_count": null,
   "metadata": {},
   "outputs": [],
   "source": []
  },
  {
   "cell_type": "code",
   "execution_count": null,
   "metadata": {},
   "outputs": [],
   "source": []
  },
  {
   "cell_type": "code",
   "execution_count": null,
   "metadata": {},
   "outputs": [],
   "source": []
  },
  {
   "cell_type": "code",
   "execution_count": null,
   "metadata": {},
   "outputs": [],
   "source": []
  },
  {
   "cell_type": "code",
   "execution_count": null,
   "metadata": {},
   "outputs": [],
   "source": []
  }
 ],
 "metadata": {
  "kernelspec": {
   "display_name": "Python 3",
   "language": "python",
   "name": "python3"
  },
  "language_info": {
   "codemirror_mode": {
    "name": "ipython",
    "version": 3
   },
   "file_extension": ".py",
   "mimetype": "text/x-python",
   "name": "python",
   "nbconvert_exporter": "python",
   "pygments_lexer": "ipython3",
   "version": "3.8.6"
  }
 },
 "nbformat": 4,
 "nbformat_minor": 4
}
