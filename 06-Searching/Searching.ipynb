{
 "cells": [
  {
   "cell_type": "markdown",
   "metadata": {},
   "source": [
    "## Searching:---------->"
   ]
  },
  {
   "cell_type": "markdown",
   "metadata": {},
   "source": [
    "### 01-Binary Search:"
   ]
  },
  {
   "cell_type": "code",
   "execution_count": 4,
   "metadata": {},
   "outputs": [
    {
     "name": "stdout",
     "output_type": "stream",
     "text": [
      "Enter the number of elements: 8\n",
      "Enter array: 10 20 30 40 50 60 70 80\n",
      "Enter element to be searched: 70\n",
      "6\n"
     ]
    }
   ],
   "source": [
    "def bSearch(arr, n, k):\n",
    "    low = 0\n",
    "    high = n-1\n",
    "    while(low <= high):\n",
    "        mid = (low + high)//2\n",
    "        if(k == arr[mid]):\n",
    "            return mid\n",
    "        elif(k < arr[mid]):\n",
    "            high = mid-1\n",
    "        else:\n",
    "            low = mid+1\n",
    "    return -1\n",
    "\n",
    "\n",
    "n = int(input(\"Enter the number of elements: \"))\n",
    "arr = list(map(int, input(\"Enter array: \").split()))\n",
    "k = int(input(\"Enter element to be searched: \"))\n",
    "print(bSearch(arr, n, k))"
   ]
  },
  {
   "cell_type": "code",
   "execution_count": null,
   "metadata": {},
   "outputs": [],
   "source": []
  },
  {
   "cell_type": "markdown",
   "metadata": {},
   "source": [
    "### 02-Recursive Binary search:"
   ]
  },
  {
   "cell_type": "code",
   "execution_count": 7,
   "metadata": {},
   "outputs": [
    {
     "name": "stdout",
     "output_type": "stream",
     "text": [
      "Enter the number of elements: 8\n",
      "Enter array: 10 20 30 40 50 60 70 80\n",
      "Enter element to be searched: 700\n",
      "-1\n"
     ]
    }
   ],
   "source": [
    "def RbSearch(arr, low, high, k):\n",
    "    if(low > high):\n",
    "        return -1\n",
    "    mid = (low + high) // 2\n",
    "    if(arr[mid] == k):\n",
    "        return mid\n",
    "    elif(k < arr[mid]):\n",
    "        return RbSearch(arr, low, mid-1, k)\n",
    "    else:\n",
    "        return RbSearch(arr, mid+1, high, k)\n",
    "\n",
    "\n",
    "n = int(input(\"Enter the number of elements: \"))\n",
    "arr = list(map(int, input(\"Enter array: \").split()))\n",
    "k = int(input(\"Enter element to be searched: \"))\n",
    "print(RbSearch(arr, 0, n-1, k))"
   ]
  },
  {
   "cell_type": "code",
   "execution_count": null,
   "metadata": {},
   "outputs": [],
   "source": []
  },
  {
   "cell_type": "markdown",
   "metadata": {},
   "source": [
    "### 03-index of first occurrence of x:\n",
    "#### Naive approach:O(n):"
   ]
  },
  {
   "cell_type": "code",
   "execution_count": 9,
   "metadata": {},
   "outputs": [
    {
     "name": "stdout",
     "output_type": "stream",
     "text": [
      "Enter the number of elements: 8\n",
      "Enter array: 10 20 30 40 40 40 70 80\n",
      "Enter element to be searched: 40\n",
      "3\n"
     ]
    }
   ],
   "source": [
    "def firstOccurrence(arr, n, k):\n",
    "    for i in range(n):\n",
    "        if(arr[i] == k):\n",
    "            return i\n",
    "    return -1\n",
    "\n",
    "\n",
    "n = int(input(\"Enter the number of elements: \"))\n",
    "arr = list(map(int, input(\"Enter array: \").split()))\n",
    "k = int(input(\"Enter element to be searched: \"))\n",
    "print(firstOccurrence(arr, n, k))"
   ]
  },
  {
   "cell_type": "markdown",
   "metadata": {},
   "source": [
    "#### Iterative approach: Tme: O(logn) and Space: O(1):"
   ]
  },
  {
   "cell_type": "code",
   "execution_count": 12,
   "metadata": {},
   "outputs": [
    {
     "name": "stdout",
     "output_type": "stream",
     "text": [
      "Enter the number of elements: 5\n",
      "Enter array: 1 1 1 2 3\n",
      "Enter element to be searched: 1\n",
      "0\n"
     ]
    }
   ],
   "source": [
    "def firstOccIter(arr, n, k):\n",
    "    low = 0\n",
    "    high = n - 1\n",
    "    while(low <= high):\n",
    "        mid = (low + high) // 2\n",
    "        if(k < arr[mid]):\n",
    "            high = mid - 1\n",
    "        elif(k > arr[mid]):\n",
    "            low = mid + 1\n",
    "        else:\n",
    "            if(mid == 0 or arr[mid-1] != arr[mid]):\n",
    "                return mid\n",
    "            else:\n",
    "                high = mid - 1\n",
    "    return -1\n",
    "\n",
    "\n",
    "n = int(input(\"Enter the number of elements: \"))\n",
    "arr = list(map(int, input(\"Enter array: \").split()))\n",
    "k = int(input(\"Enter element to be searched: \"))\n",
    "print(firstOccIter(arr, n, k))"
   ]
  },
  {
   "cell_type": "markdown",
   "metadata": {},
   "source": [
    "#### Recursive approach: Time: O(logn) and Space: O(logn):"
   ]
  },
  {
   "cell_type": "code",
   "execution_count": null,
   "metadata": {},
   "outputs": [],
   "source": [
    "def firstOccRecur(arr, low, high, k):\n",
    "    if(low > high):\n",
    "        return -1\n",
    "    mid = (low + high) // 2\n",
    "\n",
    "\n",
    "n = int(input(\"Enter the number of elements: \"))\n",
    "arr = list(map(int, input(\"Enter array: \").split()))\n",
    "k = int(input(\"Enter element to be searched: \"))\n",
    "print(firstOccIRecur(arr, 0, n-1, k))"
   ]
  },
  {
   "cell_type": "markdown",
   "metadata": {},
   "source": []
  },
  {
   "cell_type": "code",
   "execution_count": null,
   "metadata": {},
   "outputs": [],
   "source": []
  },
  {
   "cell_type": "code",
   "execution_count": null,
   "metadata": {},
   "outputs": [],
   "source": []
  },
  {
   "cell_type": "markdown",
   "metadata": {},
   "source": []
  },
  {
   "cell_type": "code",
   "execution_count": null,
   "metadata": {},
   "outputs": [],
   "source": []
  },
  {
   "cell_type": "code",
   "execution_count": null,
   "metadata": {},
   "outputs": [],
   "source": []
  },
  {
   "cell_type": "markdown",
   "metadata": {},
   "source": []
  },
  {
   "cell_type": "code",
   "execution_count": 14,
   "metadata": {},
   "outputs": [
    {
     "name": "stdout",
     "output_type": "stream",
     "text": [
      "Enter the number of elements: 5\n",
      "Enter array: 1 1 1 2 3\n",
      "Enter element to be searched: 1\n",
      "2\n"
     ]
    }
   ],
   "source": [
    "def firstOccIter(arr, n, k):\n",
    "    low = 0\n",
    "    high = n - 1\n",
    "    while(low <= high):\n",
    "        mid = (low + high) // 2\n",
    "        if(k < arr[mid]):\n",
    "            high = mid - 1\n",
    "        elif(k > arr[mid]):\n",
    "            low = mid + 1\n",
    "        else:\n",
    "            if(mid == n-1 or arr[mid+1] != arr[mid]):\n",
    "                return mid\n",
    "            else:\n",
    "                low = mid + 1\n",
    "    return -1\n",
    "\n",
    "\n",
    "n = int(input(\"Enter the number of elements: \"))\n",
    "arr = list(map(int, input(\"Enter array: \").split()))\n",
    "k = int(input(\"Enter element to be searched: \"))\n",
    "print(firstOccIter(arr, n, k))"
   ]
  },
  {
   "cell_type": "code",
   "execution_count": null,
   "metadata": {},
   "outputs": [],
   "source": []
  },
  {
   "cell_type": "code",
   "execution_count": null,
   "metadata": {},
   "outputs": [],
   "source": []
  },
  {
   "cell_type": "markdown",
   "metadata": {},
   "source": []
  },
  {
   "cell_type": "code",
   "execution_count": null,
   "metadata": {},
   "outputs": [],
   "source": []
  },
  {
   "cell_type": "code",
   "execution_count": null,
   "metadata": {},
   "outputs": [],
   "source": []
  },
  {
   "cell_type": "markdown",
   "metadata": {},
   "source": []
  },
  {
   "cell_type": "code",
   "execution_count": null,
   "metadata": {},
   "outputs": [],
   "source": []
  },
  {
   "cell_type": "code",
   "execution_count": null,
   "metadata": {},
   "outputs": [],
   "source": []
  },
  {
   "cell_type": "markdown",
   "metadata": {},
   "source": []
  },
  {
   "cell_type": "code",
   "execution_count": null,
   "metadata": {},
   "outputs": [],
   "source": []
  },
  {
   "cell_type": "code",
   "execution_count": null,
   "metadata": {},
   "outputs": [],
   "source": []
  },
  {
   "cell_type": "code",
   "execution_count": null,
   "metadata": {},
   "outputs": [],
   "source": []
  },
  {
   "cell_type": "code",
   "execution_count": null,
   "metadata": {},
   "outputs": [],
   "source": []
  },
  {
   "cell_type": "code",
   "execution_count": null,
   "metadata": {},
   "outputs": [],
   "source": []
  },
  {
   "cell_type": "code",
   "execution_count": null,
   "metadata": {},
   "outputs": [],
   "source": []
  },
  {
   "cell_type": "code",
   "execution_count": null,
   "metadata": {},
   "outputs": [],
   "source": []
  },
  {
   "cell_type": "code",
   "execution_count": null,
   "metadata": {},
   "outputs": [],
   "source": []
  },
  {
   "cell_type": "code",
   "execution_count": null,
   "metadata": {},
   "outputs": [],
   "source": []
  },
  {
   "cell_type": "code",
   "execution_count": null,
   "metadata": {},
   "outputs": [],
   "source": []
  },
  {
   "cell_type": "code",
   "execution_count": null,
   "metadata": {},
   "outputs": [],
   "source": []
  },
  {
   "cell_type": "code",
   "execution_count": null,
   "metadata": {},
   "outputs": [],
   "source": []
  },
  {
   "cell_type": "code",
   "execution_count": null,
   "metadata": {},
   "outputs": [],
   "source": []
  },
  {
   "cell_type": "code",
   "execution_count": null,
   "metadata": {},
   "outputs": [],
   "source": []
  },
  {
   "cell_type": "code",
   "execution_count": null,
   "metadata": {},
   "outputs": [],
   "source": []
  },
  {
   "cell_type": "code",
   "execution_count": null,
   "metadata": {},
   "outputs": [],
   "source": []
  },
  {
   "cell_type": "code",
   "execution_count": null,
   "metadata": {},
   "outputs": [],
   "source": []
  },
  {
   "cell_type": "code",
   "execution_count": null,
   "metadata": {},
   "outputs": [],
   "source": []
  },
  {
   "cell_type": "code",
   "execution_count": null,
   "metadata": {},
   "outputs": [],
   "source": []
  },
  {
   "cell_type": "code",
   "execution_count": null,
   "metadata": {},
   "outputs": [],
   "source": []
  },
  {
   "cell_type": "code",
   "execution_count": null,
   "metadata": {},
   "outputs": [],
   "source": []
  },
  {
   "cell_type": "code",
   "execution_count": null,
   "metadata": {},
   "outputs": [],
   "source": []
  },
  {
   "cell_type": "code",
   "execution_count": null,
   "metadata": {},
   "outputs": [],
   "source": []
  },
  {
   "cell_type": "code",
   "execution_count": null,
   "metadata": {},
   "outputs": [],
   "source": []
  },
  {
   "cell_type": "code",
   "execution_count": null,
   "metadata": {},
   "outputs": [],
   "source": []
  },
  {
   "cell_type": "code",
   "execution_count": null,
   "metadata": {},
   "outputs": [],
   "source": []
  },
  {
   "cell_type": "code",
   "execution_count": null,
   "metadata": {},
   "outputs": [],
   "source": []
  }
 ],
 "metadata": {
  "kernelspec": {
   "display_name": "Python 3",
   "language": "python",
   "name": "python3"
  },
  "language_info": {
   "codemirror_mode": {
    "name": "ipython",
    "version": 3
   },
   "file_extension": ".py",
   "mimetype": "text/x-python",
   "name": "python",
   "nbconvert_exporter": "python",
   "pygments_lexer": "ipython3",
   "version": "3.8.6"
  }
 },
 "nbformat": 4,
 "nbformat_minor": 4
}
