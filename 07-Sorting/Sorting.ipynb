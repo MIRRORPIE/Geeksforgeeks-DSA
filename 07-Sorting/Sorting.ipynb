{
 "cells": [
  {
   "cell_type": "markdown",
   "metadata": {},
   "source": [
    "### 01-In-Built Sorting:\n",
    "#### Example 1:"
   ]
  },
  {
   "cell_type": "code",
   "execution_count": 2,
   "metadata": {},
   "outputs": [
    {
     "name": "stdout",
     "output_type": "stream",
     "text": [
      "[2, 5, 8, 10, 15, 17, 20, 45, 45, 80]\n"
     ]
    }
   ],
   "source": [
    "n = 10\n",
    "arr = [45, 15, 10, 20, 8, 5, 45, 80, 2, 17]\n",
    "arr.sort()\n",
    "print(arr)"
   ]
  },
  {
   "cell_type": "markdown",
   "metadata": {},
   "source": [
    "#### Example 2: (Reverse order):"
   ]
  },
  {
   "cell_type": "code",
   "execution_count": 3,
   "metadata": {},
   "outputs": [
    {
     "name": "stdout",
     "output_type": "stream",
     "text": [
      "[80, 45, 45, 20, 17, 15, 10, 8, 5, 2]\n"
     ]
    }
   ],
   "source": [
    "n = 10\n",
    "arr = [45, 15, 10, 20, 8, 5, 45, 80, 2, 17]\n",
    "arr.sort(reverse = True)\n",
    "print(arr)"
   ]
  },
  {
   "cell_type": "markdown",
   "metadata": {},
   "source": [
    "#### Example 3: (Sort using certain function):"
   ]
  },
  {
   "cell_type": "code",
   "execution_count": 7,
   "metadata": {},
   "outputs": [
    {
     "name": "stdout",
     "output_type": "stream",
     "text": [
      "[[1, 9], [2, 4], [4, 7], [6, 8]]\n",
      "[[2, 4], [4, 7], [6, 8], [1, 9]]\n"
     ]
    }
   ],
   "source": [
    "def takeFirst(arr):\n",
    "    return arr[0]\n",
    "\n",
    "def takeSecond(arr):\n",
    "    return arr[1]\n",
    "\n",
    "arr = [[6, 8], [1, 9], [2, 4], [4, 7]]\n",
    "\n",
    "arr.sort(key = takeFirst)\n",
    "print(arr)\n",
    "\n",
    "arr.sort(key = takeSecond)\n",
    "print(arr)"
   ]
  },
  {
   "cell_type": "code",
   "execution_count": 8,
   "metadata": {},
   "outputs": [
    {
     "name": "stdout",
     "output_type": "stream",
     "text": [
      "[{'Name': 'Alan Turing', 'age': 25, 'salary': 10000}, {'Name': 'John Hopkins', 'age': 18, 'salary': 1000}, {'Name': 'Mikhail Tal', 'age': 40, 'salary': 15000}, {'Name': 'Sharon Lin', 'age': 30, 'salary': 8000}]\n",
      "\n",
      "[{'Name': 'John Hopkins', 'age': 18, 'salary': 1000}, {'Name': 'Alan Turing', 'age': 25, 'salary': 10000}, {'Name': 'Sharon Lin', 'age': 30, 'salary': 8000}, {'Name': 'Mikhail Tal', 'age': 40, 'salary': 15000}]\n",
      "\n",
      "[{'Name': 'Mikhail Tal', 'age': 40, 'salary': 15000}, {'Name': 'Alan Turing', 'age': 25, 'salary': 10000}, {'Name': 'Sharon Lin', 'age': 30, 'salary': 8000}, {'Name': 'John Hopkins', 'age': 18, 'salary': 1000}]\n",
      "\n"
     ]
    }
   ],
   "source": [
    "# sorting using custom key\n",
    "employees = [\n",
    "    {'Name': 'Alan Turing', 'age': 25, 'salary': 10000},\n",
    "    {'Name': 'Sharon Lin', 'age': 30, 'salary': 8000},\n",
    "    {'Name': 'John Hopkins', 'age': 18, 'salary': 1000},\n",
    "    {'Name': 'Mikhail Tal', 'age': 40, 'salary': 15000},\n",
    "]\n",
    "\n",
    "# custom functions to get employee info\n",
    "def get_name(employee):\n",
    "    return employee.get('Name')\n",
    "\n",
    "\n",
    "def get_age(employee):\n",
    "    return employee.get('age')\n",
    "\n",
    "\n",
    "def get_salary(employee):\n",
    "    return employee.get('salary')\n",
    "\n",
    "\n",
    "# sort by name (Ascending order)\n",
    "employees.sort(key=get_name)\n",
    "print(employees, end='\\n\\n')\n",
    "\n",
    "# sort by Age (Ascending order)\n",
    "employees.sort(key=get_age)\n",
    "print(employees, end='\\n\\n')\n",
    "\n",
    "# sort by salary (Descending order)\n",
    "employees.sort(key=get_salary, reverse=True)\n",
    "print(employees, end='\\n\\n')"
   ]
  },
  {
   "cell_type": "code",
   "execution_count": 9,
   "metadata": {},
   "outputs": [
    {
     "name": "stdout",
     "output_type": "stream",
     "text": [
      "[{'Name': 'Alan Turing', 'age': 25, 'salary': 10000}, {'Name': 'John Hopkins', 'age': 18, 'salary': 1000}, {'Name': 'Mikhail Tal', 'age': 40, 'salary': 15000}, {'Name': 'Sharon Lin', 'age': 30, 'salary': 8000}]\n",
      "\n",
      "[{'Name': 'John Hopkins', 'age': 18, 'salary': 1000}, {'Name': 'Alan Turing', 'age': 25, 'salary': 10000}, {'Name': 'Sharon Lin', 'age': 30, 'salary': 8000}, {'Name': 'Mikhail Tal', 'age': 40, 'salary': 15000}]\n",
      "\n",
      "[{'Name': 'Mikhail Tal', 'age': 40, 'salary': 15000}, {'Name': 'Alan Turing', 'age': 25, 'salary': 10000}, {'Name': 'Sharon Lin', 'age': 30, 'salary': 8000}, {'Name': 'John Hopkins', 'age': 18, 'salary': 1000}]\n",
      "\n"
     ]
    }
   ],
   "source": [
    "# sorting using custom key\n",
    "employees = [\n",
    "    {'Name': 'Alan Turing', 'age': 25, 'salary': 10000},\n",
    "    {'Name': 'Sharon Lin', 'age': 30, 'salary': 8000},\n",
    "    {'Name': 'John Hopkins', 'age': 18, 'salary': 1000},\n",
    "    {'Name': 'Mikhail Tal', 'age': 40, 'salary': 15000},\n",
    "]\n",
    "\n",
    "# sort by name (Ascending order)\n",
    "employees.sort(key=lambda x: x.get('Name'))\n",
    "print(employees, end='\\n\\n')\n",
    "\n",
    "# sort by Age (Ascending order)\n",
    "employees.sort(key=lambda x: x.get('age'))\n",
    "print(employees, end='\\n\\n')\n",
    "\n",
    "# sort by salary (Descending order)\n",
    "employees.sort(key=lambda x: x.get('salary'), reverse=True)\n",
    "print(employees, end='\\n\\n')"
   ]
  },
  {
   "cell_type": "code",
   "execution_count": null,
   "metadata": {},
   "outputs": [],
   "source": []
  },
  {
   "cell_type": "markdown",
   "metadata": {},
   "source": [
    "### 02-Bubble sort:"
   ]
  },
  {
   "cell_type": "code",
   "execution_count": 15,
   "metadata": {},
   "outputs": [
    {
     "name": "stdout",
     "output_type": "stream",
     "text": [
      "[0, 1, 1, 1, 2, 3, 4, 4, 5, 5, 5, 5, 6, 8, 9, 12, 15, 47, 56, 61, 85, 88, 100, 120, 589]\n",
      "25 300\n"
     ]
    }
   ],
   "source": [
    "def bubbleSort(a, n):\n",
    "    count = 0\n",
    "    for i in range(n):\n",
    "        for j in range(n-i-1):\n",
    "            count += 1\n",
    "            if(a[j] > a[j+1]):\n",
    "                a[j+1], a[j] = a[j], a[j+1]\n",
    "    return count            \n",
    "\n",
    "arr = [1, 4, 5, 120, 5, 6, 1, 8, 9, 2, 4, 85, 5, 3, 5, 88, 1, 56, 47, 589, 100, 0, 12, 15, 61]\n",
    "n = len(arr)\n",
    "\n",
    "ae = bubbleSort(arr, n)\n",
    "\n",
    "print(arr)\n",
    "print(n, ae)       #24*25/2"
   ]
  },
  {
   "cell_type": "code",
   "execution_count": null,
   "metadata": {},
   "outputs": [],
   "source": []
  },
  {
   "cell_type": "markdown",
   "metadata": {},
   "source": [
    "### 03-Insertion sort:"
   ]
  },
  {
   "cell_type": "code",
   "execution_count": 24,
   "metadata": {},
   "outputs": [
    {
     "name": "stdout",
     "output_type": "stream",
     "text": [
      "[1, 2, 3, 4, 5, 6, 10, 12]\n"
     ]
    }
   ],
   "source": [
    "def insertionSort(arr, n):\n",
    "    for i in range(1, n):\n",
    "        key = arr[i]\n",
    "        j = i-1\n",
    "        while(j >= 0 and key < arr[j]):\n",
    "            arr[j+1] = arr[j]\n",
    "            j -= 1\n",
    "        arr[j+1] = key\n",
    "\n",
    "\n",
    "arr = [4, 3, 2, 10, 12, 1, 5, 6]\n",
    "n = len(arr)\n",
    "\n",
    "insertionSort(arr, n)\n",
    "\n",
    "print(arr)    "
   ]
  },
  {
   "cell_type": "code",
   "execution_count": null,
   "metadata": {},
   "outputs": [],
   "source": []
  },
  {
   "cell_type": "markdown",
   "metadata": {},
   "source": [
    "### 04-Merge two sorted arrays:"
   ]
  },
  {
   "cell_type": "code",
   "execution_count": 52,
   "metadata": {},
   "outputs": [
    {
     "name": "stdout",
     "output_type": "stream",
     "text": [
      "5 6 6 10 10 15 15 20 40 "
     ]
    }
   ],
   "source": [
    "def mergeSortedArray(a, b):\n",
    "    m = len(a)\n",
    "    n = len(b)\n",
    "    i = 0\n",
    "    j = 0\n",
    "    while(i < m and j < n):\n",
    "        if(a[i] <= b[j]):\n",
    "            print(a[i], end = \" \")\n",
    "            i += 1\n",
    "        else:\n",
    "            print(b[j], end = \" \")\n",
    "            j += 1\n",
    "    while(i < m):\n",
    "        print(a[i], end = \" \")\n",
    "        i += 1\n",
    "    while(j < n):\n",
    "        print(b[j], end = \" \")\n",
    "        j += 1\n",
    "        \n",
    "        \n",
    "\n",
    "a = [10, 15, 20, 40]\n",
    "b = [5, 6, 6, 10, 15]\n",
    "\n",
    "mergeSortedArray(a, b)\n"
   ]
  },
  {
   "cell_type": "code",
   "execution_count": null,
   "metadata": {},
   "outputs": [],
   "source": []
  },
  {
   "cell_type": "markdown",
   "metadata": {},
   "source": [
    "### 05-Merge two sorted subarray of a array : where low, middle, high are given: \n",
    "Here we take a single array with three points namely, the lower, the middle and the highest point. The elements from the lower to the middle are sorted and the elements from the (middle+1) to the higher are sorted. The task is to merge these two sorted parts into one."
   ]
  },
  {
   "cell_type": "code",
   "execution_count": 53,
   "metadata": {},
   "outputs": [
    {
     "name": "stdout",
     "output_type": "stream",
     "text": [
      "[1, 4, 5, 8, 9, 10, 11, 11, 14, 15, 17, 18, 18, 19, 35, 39, 78, 89, 100, 120, 170, 200]\n"
     ]
    }
   ],
   "source": [
    "def merge(arr, low, mid, high):\n",
    "    n1 = mid - low + 1\n",
    "    n2 = high - mid\n",
    "    left = [0] * n1\n",
    "    right = [0] * n2\n",
    "    for i in range(n1):\n",
    "        left[i] = arr[low+i]\n",
    "    for j in range(n2):\n",
    "        right[j] = arr[mid+1+j]\n",
    "    \n",
    "    i = j = 0\n",
    "    k = low\n",
    "    while(i < n1 and j < n2):\n",
    "        if(left[i] <= right[j]):\n",
    "            arr[k] = left[i]\n",
    "            k += 1\n",
    "            i += 1\n",
    "        else:\n",
    "            arr[k] = right[j]\n",
    "            k += 1\n",
    "            j += 1\n",
    "    while(i < n1):\n",
    "        arr[k] = left[i]\n",
    "        k += 1\n",
    "        i += 1\n",
    "    while(j < n2):\n",
    "        arr[k] = right[j]\n",
    "        k += 1\n",
    "        j += 1\n",
    "\n",
    "\n",
    "arr = [1,4,5,8,9, 14,15,18,18,89,10,11,11,17,19,35,39,78, 100,120,170,200]\n",
    "#                 --------------------------------------\n",
    "low = 5\n",
    "mid = 9\n",
    "high = 17\n",
    "\n",
    "merge(arr, low, mid, high)\n",
    "\n",
    "print(arr)"
   ]
  },
  {
   "cell_type": "code",
   "execution_count": null,
   "metadata": {},
   "outputs": [],
   "source": []
  },
  {
   "cell_type": "markdown",
   "metadata": {},
   "source": [
    "### 06-Merge sort Program:"
   ]
  },
  {
   "cell_type": "code",
   "execution_count": 3,
   "metadata": {},
   "outputs": [
    {
     "name": "stdout",
     "output_type": "stream",
     "text": [
      "[1, 2, 3, 4, 5, 6, 10, 12]\n"
     ]
    }
   ],
   "source": [
    "def merge(arr, l, m, r):\n",
    "    n1 = m - l + 1\n",
    "    n2 = r - m\n",
    "    \n",
    "    # Create temp arrays\n",
    "    left = [0] * n1\n",
    "    right = [0] * n2\n",
    "    \n",
    "    for i in range(n1):\n",
    "        left[i] = arr[l+i]\n",
    "    for j in range(n2):\n",
    "        right[j] = arr[m+1+j]\n",
    "        \n",
    "    i = j = 0\n",
    "    k = l\n",
    "    \n",
    "    while(i < n1 and j < n2):\n",
    "        if(left[i] <= right[j]):\n",
    "            arr[k] = left[i]\n",
    "            k += 1\n",
    "            i += 1\n",
    "        else:\n",
    "            arr[k] = right[j]\n",
    "            k += 1\n",
    "            j += 1\n",
    "    while(i < n1):\n",
    "        arr[k] = left[i]\n",
    "        k += 1\n",
    "        i += 1\n",
    "    while(j < n2):\n",
    "        arr[k] = right[j]\n",
    "        k += 1\n",
    "        j += 1\n",
    "    \n",
    "\n",
    "\n",
    "def mergeSort(arr, l, r):\n",
    "    if(l < r):\n",
    "        m = l + (r - l) // 2\n",
    "        mergeSort(arr, l, m)\n",
    "        mergeSort(arr, m+1, r)\n",
    "        merge(arr, l, m, r)\n",
    "    \n",
    "\n",
    "\n",
    "arr = [4, 3, 2, 10, 12, 1, 5, 6]\n",
    "n = len(arr)\n",
    "l = 0\n",
    "r = n - 1\n",
    "\n",
    "mergeSort(arr, l, r)\n",
    "\n",
    "print(arr)    "
   ]
  },
  {
   "cell_type": "code",
   "execution_count": null,
   "metadata": {},
   "outputs": [],
   "source": []
  },
  {
   "cell_type": "markdown",
   "metadata": {},
   "source": [
    "### 07-Intersection of Two sorted Arrays:"
   ]
  },
  {
   "cell_type": "code",
   "execution_count": 8,
   "metadata": {},
   "outputs": [
    {
     "name": "stdout",
     "output_type": "stream",
     "text": [
      "5\n",
      "10\n",
      "15\n"
     ]
    }
   ],
   "source": [
    "def intersection(a, b, m, n):\n",
    "    i = j = 0\n",
    "    while(i < m and j < n):\n",
    "        if(i > 0 and a[i] == a[i-1]):\n",
    "            i += 1\n",
    "            continue\n",
    "        \"\"\"if(j > 0 and b[j] == b[j-1]):\n",
    "            j += 1\n",
    "            continue\"\"\"\n",
    "        if(a[i] < b[j]):\n",
    "            i += 1\n",
    "        elif(a[i] > b[j]):\n",
    "            j += 1\n",
    "        else:\n",
    "            print(a[i])\n",
    "            i += 1\n",
    "            j += 1\n",
    "\n",
    "\n",
    "a = [3, 5, 5, 10, 10, 10, 15, 15, 20]\n",
    "b = [5, 10, 10, 15, 30]\n",
    "m = len(a)\n",
    "n = len(b)\n",
    "\n",
    "intersection(a, b, m, n)\n"
   ]
  },
  {
   "cell_type": "code",
   "execution_count": null,
   "metadata": {},
   "outputs": [],
   "source": []
  },
  {
   "cell_type": "markdown",
   "metadata": {},
   "source": [
    "### 08-Union of Two sorted Arrays:"
   ]
  },
  {
   "cell_type": "code",
   "execution_count": 19,
   "metadata": {},
   "outputs": [
    {
     "name": "stdout",
     "output_type": "stream",
     "text": [
      "3 5 10 15 20 30 80 "
     ]
    }
   ],
   "source": [
    "def union(a, b, m, n):\n",
    "    i = j = 0\n",
    "    while(i < m and j < n):\n",
    "        if(i > 0 and a[i] == a[i-1]):\n",
    "            i += 1\n",
    "            continue\n",
    "        if(j > 0 and b[j] == b[j-1]):\n",
    "            j += 1\n",
    "            continue\n",
    "        if(a[i] < b[j]):\n",
    "            print(a[i], end = \" \")\n",
    "            i += 1\n",
    "        elif(a[i] > b[j]):\n",
    "            print(b[j], end = \" \")\n",
    "            j += 1\n",
    "        else:\n",
    "            print(a[i], end = \" \")\n",
    "            i += 1\n",
    "            j += 1\n",
    "    while(i < m):\n",
    "        if(i > 0 and a[i] == a[i-1]):\n",
    "            i += 1\n",
    "            continue\n",
    "        print(a[i], end = \" \")\n",
    "        i += 1\n",
    "    while(j < n):\n",
    "        if(j > 0 and b[j] == b[j-1]):\n",
    "            j += 1\n",
    "            continue\n",
    "        print(b[j], end = \" \")\n",
    "        j += 1\n",
    "\n",
    "\n",
    "\n",
    "a = [3, 5, 5, 10, 10, 10, 15, 15, 20]\n",
    "b = [5, 10, 10, 15, 30, 80]\n",
    "m = len(a)\n",
    "n = len(b)\n",
    "\n",
    "union(a, b, m, n)"
   ]
  },
  {
   "cell_type": "code",
   "execution_count": null,
   "metadata": {},
   "outputs": [],
   "source": []
  },
  {
   "cell_type": "markdown",
   "metadata": {},
   "source": [
    "### 09-Count Inversions in an array:\n",
    "i < j where arr[i] > arr[j] "
   ]
  },
  {
   "cell_type": "code",
   "execution_count": 29,
   "metadata": {},
   "outputs": [
    {
     "name": "stdout",
     "output_type": "stream",
     "text": [
      "4\n",
      "[1, 2, 3, 4, 5]\n"
     ]
    }
   ],
   "source": [
    "def countAndMerge(arr, l, m, r):\n",
    "    n1 = m - l + 1\n",
    "    n2 = r - m\n",
    "    \n",
    "    left = [0] * n1\n",
    "    right = [0] * n2\n",
    "    \n",
    "    for i in range(n1):\n",
    "        left[i] = arr[l+i]\n",
    "    for j in range(n2):\n",
    "        right[j] = arr[m+1+j]\n",
    "    \n",
    "    i = j = 0\n",
    "    k = l\n",
    "    count = 0\n",
    "    \n",
    "    while(i < n1 and j < n2):\n",
    "        if(left[i] <= right[j]):\n",
    "            arr[k] = left[i]\n",
    "            i += 1\n",
    "            k += 1\n",
    "        else:\n",
    "            arr[k] = right[j]\n",
    "            j += 1\n",
    "            k += 1\n",
    "            count += (n1-i)\n",
    "            \n",
    "    while(i < n1):\n",
    "        arr[k] = left[i]\n",
    "        k += 1\n",
    "        i += 1\n",
    "    while(j < n2):\n",
    "        arr[k] = right[j]\n",
    "        k += 1\n",
    "        j += 1\n",
    "        \n",
    "    return count\n",
    "            \n",
    "        \n",
    "\n",
    "\n",
    "def countInv(arr, l, r):\n",
    "    res = 0\n",
    "    if(l < r):\n",
    "        m = l + (r - l) // 2\n",
    "        res += countInv(arr, l, m)\n",
    "        res += countInv(arr, m+1, r)\n",
    "        res += countAndMerge(arr, l, m, r)\n",
    "    return res\n",
    "\n",
    "\n",
    "arr = [2, 4, 3, 1, 5]\n",
    "n = len(arr)\n",
    "l = 0\n",
    "r = n - 1\n",
    "\n",
    "c = countInv(arr, l, r)\n",
    "print(c)\n",
    "print(arr)"
   ]
  },
  {
   "cell_type": "code",
   "execution_count": null,
   "metadata": {},
   "outputs": [],
   "source": []
  },
  {
   "cell_type": "markdown",
   "metadata": {},
   "source": [
    "### 10-Partition a given Array:\n",
    "#### Naive partition:"
   ]
  },
  {
   "cell_type": "code",
   "execution_count": 35,
   "metadata": {},
   "outputs": [
    {
     "name": "stdout",
     "output_type": "stream",
     "text": [
      "[5, 6, 8, 9, 13, 12, 11]\n"
     ]
    }
   ],
   "source": [
    "def partition(arr, low, high, p):\n",
    "    temp = [0] * (high - low + 1)\n",
    "    index = 0\n",
    "    for i in range(low, high+1):\n",
    "        if(arr[i] < arr[p]):\n",
    "            temp[index] = arr[i]\n",
    "            index += 1\n",
    "    for i in range(low, high+1):\n",
    "        if(arr[i] == arr[p]):\n",
    "            temp[index] = arr[i]\n",
    "            index += 1\n",
    "    for i in range(low, high+1):\n",
    "        if(arr[i] > arr[p]):\n",
    "            temp[index] = arr[i]\n",
    "            index += 1\n",
    "    for i in range(low, high+1):\n",
    "        arr[i] = temp[i-l]\n",
    "\n",
    "\n",
    "arr = [5, 13, 6, 9, 12, 11, 8]\n",
    "n = len(arr)\n",
    "low = 0\n",
    "high = n - 1\n",
    "p = 3\n",
    "\n",
    "partition(arr, low, high, p)\n",
    "\n",
    "print(arr)"
   ]
  },
  {
   "cell_type": "code",
   "execution_count": 6,
   "metadata": {},
   "outputs": [
    {
     "name": "stdout",
     "output_type": "stream",
     "text": [
      "[5, 9, 6, 13, 9, 12, 11, 9]\n",
      "[5, 9, 6, 9, 9, 12, 11, 13]\n"
     ]
    }
   ],
   "source": [
    "### My solution:\n",
    "\n",
    "def partition(arr, low, high):\n",
    "    p = arr[high]\n",
    "    while(low < high):\n",
    "        if(arr[low] > p):\n",
    "            while(low < high):\n",
    "                if(arr[high] < p):\n",
    "                    arr[high], arr[low] = arr[low], arr[high]\n",
    "                    low += 1\n",
    "                    high -= 1\n",
    "                    print(arr)\n",
    "                    break\n",
    "                else:\n",
    "                    high -= 1\n",
    "        elif(arr[low] == p):\n",
    "            pass\n",
    "        else:\n",
    "            low += 1\n",
    "    arr[low], arr[-1] = arr[-1], arr[low]\n",
    "            \n",
    "                \n",
    "        \n",
    "\n",
    "\n",
    "\n",
    "arr = [5, 9, 13, 6, 9, 12, 11, 9]\n",
    "n = len(arr)\n",
    "low = 0\n",
    "high = n - 1\n",
    "\n",
    "\n",
    "partition(arr, low, high)\n",
    "\n",
    "print(arr)"
   ]
  },
  {
   "cell_type": "markdown",
   "metadata": {},
   "source": [
    "#### Lomuto partition:"
   ]
  },
  {
   "cell_type": "code",
   "execution_count": 17,
   "metadata": {},
   "outputs": [
    {
     "name": "stdout",
     "output_type": "stream",
     "text": [
      "[5, 6, 8, 13, 9, 14, 8]\n"
     ]
    }
   ],
   "source": [
    "def lPartition(arr, low, high):\n",
    "    pivot = arr[high]\n",
    "    i = low - 1\n",
    "    for j in range(low, high):\n",
    "        if(arr[j] < pivot):\n",
    "            i += 1\n",
    "            arr[i], arr[j] = arr[j], arr[i]\n",
    "    arr[i+1], arr[high] = arr[high], arr[i+1]\n",
    "            \n",
    "    return i+1\n",
    "    \n",
    "    \n",
    "\n",
    "\n",
    "arr = [5, 9, 8, 13, 6, 14, 8]\n",
    "n = len(arr)\n",
    "low = 0\n",
    "high = n - 1\n",
    "\n",
    "\n",
    "lPartition(arr, low, high)\n",
    "\n",
    "print(arr)"
   ]
  },
  {
   "cell_type": "code",
   "execution_count": null,
   "metadata": {},
   "outputs": [],
   "source": []
  },
  {
   "cell_type": "code",
   "execution_count": null,
   "metadata": {},
   "outputs": [],
   "source": []
  },
  {
   "cell_type": "code",
   "execution_count": null,
   "metadata": {},
   "outputs": [],
   "source": []
  },
  {
   "cell_type": "code",
   "execution_count": null,
   "metadata": {},
   "outputs": [],
   "source": []
  },
  {
   "cell_type": "code",
   "execution_count": null,
   "metadata": {},
   "outputs": [],
   "source": []
  },
  {
   "cell_type": "code",
   "execution_count": null,
   "metadata": {},
   "outputs": [],
   "source": []
  },
  {
   "cell_type": "code",
   "execution_count": null,
   "metadata": {},
   "outputs": [],
   "source": []
  },
  {
   "cell_type": "code",
   "execution_count": null,
   "metadata": {},
   "outputs": [],
   "source": []
  },
  {
   "cell_type": "code",
   "execution_count": null,
   "metadata": {},
   "outputs": [],
   "source": []
  },
  {
   "cell_type": "code",
   "execution_count": null,
   "metadata": {},
   "outputs": [],
   "source": []
  },
  {
   "cell_type": "code",
   "execution_count": null,
   "metadata": {},
   "outputs": [],
   "source": []
  },
  {
   "cell_type": "code",
   "execution_count": null,
   "metadata": {},
   "outputs": [],
   "source": []
  },
  {
   "cell_type": "code",
   "execution_count": null,
   "metadata": {},
   "outputs": [],
   "source": []
  },
  {
   "cell_type": "code",
   "execution_count": null,
   "metadata": {},
   "outputs": [],
   "source": []
  },
  {
   "cell_type": "code",
   "execution_count": null,
   "metadata": {},
   "outputs": [],
   "source": []
  },
  {
   "cell_type": "code",
   "execution_count": null,
   "metadata": {},
   "outputs": [],
   "source": []
  },
  {
   "cell_type": "code",
   "execution_count": null,
   "metadata": {},
   "outputs": [],
   "source": []
  },
  {
   "cell_type": "code",
   "execution_count": null,
   "metadata": {},
   "outputs": [],
   "source": []
  },
  {
   "cell_type": "code",
   "execution_count": null,
   "metadata": {},
   "outputs": [],
   "source": []
  }
 ],
 "metadata": {
  "kernelspec": {
   "display_name": "Python 3",
   "language": "python",
   "name": "python3"
  },
  "language_info": {
   "codemirror_mode": {
    "name": "ipython",
    "version": 3
   },
   "file_extension": ".py",
   "mimetype": "text/x-python",
   "name": "python",
   "nbconvert_exporter": "python",
   "pygments_lexer": "ipython3",
   "version": "3.8.6"
  }
 },
 "nbformat": 4,
 "nbformat_minor": 4
}
